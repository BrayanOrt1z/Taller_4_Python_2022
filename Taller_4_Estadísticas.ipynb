{
 "cells": [
  {
   "cell_type": "markdown",
   "id": "fd93e87b",
   "metadata": {},
   "source": [
    "# Taller 4: Estadísticas.\n",
    "\n",
    "\n",
    "## Nombre: Brayan Andrés Ortiz González\n",
    "## ID: 360727\n",
    "\n",
    "### Descripción: La presente actividad consiste en realizar un análisis estadístico a un dataset utilizado en una actividad anterior, empleando las principales funciones y librerías de Python."
   ]
  },
  {
   "cell_type": "code",
   "execution_count": 67,
   "id": "d6c864b1",
   "metadata": {},
   "outputs": [],
   "source": [
    "import pandas as pd\n",
    "import matplotlib.pyplot as plt\n",
    "import numpy as np\n",
    "from scipy import stats"
   ]
  },
  {
   "cell_type": "markdown",
   "id": "3c2bf91d",
   "metadata": {},
   "source": [
    "### 2) Información suministrada de la plataforma Kaggle sobre el DataSet seleccionado.\n",
    "\n",
    "### COVID-19 Dataset:\n",
    "\n",
    "#### Context:\n",
    "\n",
    "* A new coronavirus designated 2019-nCoV was first identified in Wuhan, the capital of China's Hubei province.\n",
    "* People developed pneumonia without a clear cause and for which existing vaccines or treatments were not effective.\n",
    "* The virus has shown evidence of human-to-human transmission.\n",
    "* Transmission rate (rate of infection) appeared to escalate in mid-January 2020.\n",
    "* As of 30 January 2020, approximately 8,243 cases have been confirmed.\n",
    "\n",
    "#### Content:\n",
    "\n",
    "* full_grouped.csv - Day to day country wise no. of cases (Has County/State/Province level data).\n",
    "* covid19clean_complete.csv - Day to day country wise no. of cases (Doesn't have County/State/Province level data).\n",
    "* countrywiselatest.csv - Latest country level no. of cases.\n",
    "* day_wise.csv - Day wise no. of cases (Doesn't have country level data).\n",
    "* usacountywise.csv - Day to day county level no. of cases.\n",
    "* worldometer_data.csv - Latest data from https://www.worldometers.info/.\n",
    "\n",
    "En mi caso, seleccioné el archivo \"day_wise.csv\" y \"full_gruoped.csv\"."
   ]
  },
  {
   "cell_type": "markdown",
   "id": "8faa23b5",
   "metadata": {},
   "source": [
    "### 3) Cargamos el archivo csv que contiene la información para poder manipular los datos."
   ]
  },
  {
   "cell_type": "code",
   "execution_count": 11,
   "id": "10211736",
   "metadata": {},
   "outputs": [
    {
     "data": {
      "text/html": [
       "<div>\n",
       "<style scoped>\n",
       "    .dataframe tbody tr th:only-of-type {\n",
       "        vertical-align: middle;\n",
       "    }\n",
       "\n",
       "    .dataframe tbody tr th {\n",
       "        vertical-align: top;\n",
       "    }\n",
       "\n",
       "    .dataframe thead th {\n",
       "        text-align: right;\n",
       "    }\n",
       "</style>\n",
       "<table border=\"1\" class=\"dataframe\">\n",
       "  <thead>\n",
       "    <tr style=\"text-align: right;\">\n",
       "      <th></th>\n",
       "      <th>Date</th>\n",
       "      <th>Country/Region</th>\n",
       "      <th>Confirmed</th>\n",
       "      <th>Deaths</th>\n",
       "      <th>Recovered</th>\n",
       "      <th>Active</th>\n",
       "      <th>New cases</th>\n",
       "      <th>New deaths</th>\n",
       "      <th>New recovered</th>\n",
       "      <th>WHO Region</th>\n",
       "    </tr>\n",
       "  </thead>\n",
       "  <tbody>\n",
       "    <tr>\n",
       "      <th>0</th>\n",
       "      <td>2020-01-22</td>\n",
       "      <td>Afghanistan</td>\n",
       "      <td>0</td>\n",
       "      <td>0</td>\n",
       "      <td>0</td>\n",
       "      <td>0</td>\n",
       "      <td>0</td>\n",
       "      <td>0</td>\n",
       "      <td>0</td>\n",
       "      <td>Eastern Mediterranean</td>\n",
       "    </tr>\n",
       "    <tr>\n",
       "      <th>1</th>\n",
       "      <td>2020-01-22</td>\n",
       "      <td>Albania</td>\n",
       "      <td>0</td>\n",
       "      <td>0</td>\n",
       "      <td>0</td>\n",
       "      <td>0</td>\n",
       "      <td>0</td>\n",
       "      <td>0</td>\n",
       "      <td>0</td>\n",
       "      <td>Europe</td>\n",
       "    </tr>\n",
       "    <tr>\n",
       "      <th>2</th>\n",
       "      <td>2020-01-22</td>\n",
       "      <td>Algeria</td>\n",
       "      <td>0</td>\n",
       "      <td>0</td>\n",
       "      <td>0</td>\n",
       "      <td>0</td>\n",
       "      <td>0</td>\n",
       "      <td>0</td>\n",
       "      <td>0</td>\n",
       "      <td>Africa</td>\n",
       "    </tr>\n",
       "    <tr>\n",
       "      <th>3</th>\n",
       "      <td>2020-01-22</td>\n",
       "      <td>Andorra</td>\n",
       "      <td>0</td>\n",
       "      <td>0</td>\n",
       "      <td>0</td>\n",
       "      <td>0</td>\n",
       "      <td>0</td>\n",
       "      <td>0</td>\n",
       "      <td>0</td>\n",
       "      <td>Europe</td>\n",
       "    </tr>\n",
       "    <tr>\n",
       "      <th>4</th>\n",
       "      <td>2020-01-22</td>\n",
       "      <td>Angola</td>\n",
       "      <td>0</td>\n",
       "      <td>0</td>\n",
       "      <td>0</td>\n",
       "      <td>0</td>\n",
       "      <td>0</td>\n",
       "      <td>0</td>\n",
       "      <td>0</td>\n",
       "      <td>Africa</td>\n",
       "    </tr>\n",
       "    <tr>\n",
       "      <th>...</th>\n",
       "      <td>...</td>\n",
       "      <td>...</td>\n",
       "      <td>...</td>\n",
       "      <td>...</td>\n",
       "      <td>...</td>\n",
       "      <td>...</td>\n",
       "      <td>...</td>\n",
       "      <td>...</td>\n",
       "      <td>...</td>\n",
       "      <td>...</td>\n",
       "    </tr>\n",
       "    <tr>\n",
       "      <th>35151</th>\n",
       "      <td>2020-07-27</td>\n",
       "      <td>West Bank and Gaza</td>\n",
       "      <td>10621</td>\n",
       "      <td>78</td>\n",
       "      <td>3752</td>\n",
       "      <td>6791</td>\n",
       "      <td>152</td>\n",
       "      <td>2</td>\n",
       "      <td>0</td>\n",
       "      <td>Eastern Mediterranean</td>\n",
       "    </tr>\n",
       "    <tr>\n",
       "      <th>35152</th>\n",
       "      <td>2020-07-27</td>\n",
       "      <td>Western Sahara</td>\n",
       "      <td>10</td>\n",
       "      <td>1</td>\n",
       "      <td>8</td>\n",
       "      <td>1</td>\n",
       "      <td>0</td>\n",
       "      <td>0</td>\n",
       "      <td>0</td>\n",
       "      <td>Africa</td>\n",
       "    </tr>\n",
       "    <tr>\n",
       "      <th>35153</th>\n",
       "      <td>2020-07-27</td>\n",
       "      <td>Yemen</td>\n",
       "      <td>1691</td>\n",
       "      <td>483</td>\n",
       "      <td>833</td>\n",
       "      <td>375</td>\n",
       "      <td>10</td>\n",
       "      <td>4</td>\n",
       "      <td>36</td>\n",
       "      <td>Eastern Mediterranean</td>\n",
       "    </tr>\n",
       "    <tr>\n",
       "      <th>35154</th>\n",
       "      <td>2020-07-27</td>\n",
       "      <td>Zambia</td>\n",
       "      <td>4552</td>\n",
       "      <td>140</td>\n",
       "      <td>2815</td>\n",
       "      <td>1597</td>\n",
       "      <td>71</td>\n",
       "      <td>1</td>\n",
       "      <td>465</td>\n",
       "      <td>Africa</td>\n",
       "    </tr>\n",
       "    <tr>\n",
       "      <th>35155</th>\n",
       "      <td>2020-07-27</td>\n",
       "      <td>Zimbabwe</td>\n",
       "      <td>2704</td>\n",
       "      <td>36</td>\n",
       "      <td>542</td>\n",
       "      <td>2126</td>\n",
       "      <td>192</td>\n",
       "      <td>2</td>\n",
       "      <td>24</td>\n",
       "      <td>Africa</td>\n",
       "    </tr>\n",
       "  </tbody>\n",
       "</table>\n",
       "<p>35156 rows × 10 columns</p>\n",
       "</div>"
      ],
      "text/plain": [
       "             Date      Country/Region  Confirmed  Deaths  Recovered  Active  \\\n",
       "0      2020-01-22         Afghanistan          0       0          0       0   \n",
       "1      2020-01-22             Albania          0       0          0       0   \n",
       "2      2020-01-22             Algeria          0       0          0       0   \n",
       "3      2020-01-22             Andorra          0       0          0       0   \n",
       "4      2020-01-22              Angola          0       0          0       0   \n",
       "...           ...                 ...        ...     ...        ...     ...   \n",
       "35151  2020-07-27  West Bank and Gaza      10621      78       3752    6791   \n",
       "35152  2020-07-27      Western Sahara         10       1          8       1   \n",
       "35153  2020-07-27               Yemen       1691     483        833     375   \n",
       "35154  2020-07-27              Zambia       4552     140       2815    1597   \n",
       "35155  2020-07-27            Zimbabwe       2704      36        542    2126   \n",
       "\n",
       "       New cases  New deaths  New recovered             WHO Region  \n",
       "0              0           0              0  Eastern Mediterranean  \n",
       "1              0           0              0                 Europe  \n",
       "2              0           0              0                 Africa  \n",
       "3              0           0              0                 Europe  \n",
       "4              0           0              0                 Africa  \n",
       "...          ...         ...            ...                    ...  \n",
       "35151        152           2              0  Eastern Mediterranean  \n",
       "35152          0           0              0                 Africa  \n",
       "35153         10           4             36  Eastern Mediterranean  \n",
       "35154         71           1            465                 Africa  \n",
       "35155        192           2             24                 Africa  \n",
       "\n",
       "[35156 rows x 10 columns]"
      ]
     },
     "execution_count": 11,
     "metadata": {},
     "output_type": "execute_result"
    }
   ],
   "source": [
    "World_Data = pd.read_csv('full_grouped.csv')\n",
    "World_Data"
   ]
  },
  {
   "cell_type": "markdown",
   "id": "50d97b93",
   "metadata": {},
   "source": [
    "### 4) Renombrar\n",
    "Aquí renombré las columnas para poder trabajar con ellas con mayor facilidad."
   ]
  },
  {
   "cell_type": "code",
   "execution_count": 12,
   "id": "2ac7a8c1",
   "metadata": {},
   "outputs": [
    {
     "data": {
      "text/html": [
       "<div>\n",
       "<style scoped>\n",
       "    .dataframe tbody tr th:only-of-type {\n",
       "        vertical-align: middle;\n",
       "    }\n",
       "\n",
       "    .dataframe tbody tr th {\n",
       "        vertical-align: top;\n",
       "    }\n",
       "\n",
       "    .dataframe thead th {\n",
       "        text-align: right;\n",
       "    }\n",
       "</style>\n",
       "<table border=\"1\" class=\"dataframe\">\n",
       "  <thead>\n",
       "    <tr style=\"text-align: right;\">\n",
       "      <th></th>\n",
       "      <th>fecha</th>\n",
       "      <th>region</th>\n",
       "      <th>c_conf</th>\n",
       "      <th>c_muertes</th>\n",
       "      <th>c_rec</th>\n",
       "      <th>c_activos</th>\n",
       "      <th>n_casos</th>\n",
       "      <th>n_muertes</th>\n",
       "      <th>n_rec</th>\n",
       "      <th>w_region</th>\n",
       "    </tr>\n",
       "  </thead>\n",
       "  <tbody>\n",
       "    <tr>\n",
       "      <th>0</th>\n",
       "      <td>2020-01-22</td>\n",
       "      <td>Afghanistan</td>\n",
       "      <td>0</td>\n",
       "      <td>0</td>\n",
       "      <td>0</td>\n",
       "      <td>0</td>\n",
       "      <td>0</td>\n",
       "      <td>0</td>\n",
       "      <td>0</td>\n",
       "      <td>Eastern Mediterranean</td>\n",
       "    </tr>\n",
       "  </tbody>\n",
       "</table>\n",
       "</div>"
      ],
      "text/plain": [
       "        fecha       region  c_conf  c_muertes  c_rec  c_activos  n_casos  \\\n",
       "0  2020-01-22  Afghanistan       0          0      0          0        0   \n",
       "\n",
       "   n_muertes  n_rec               w_region  \n",
       "0          0      0  Eastern Mediterranean  "
      ]
     },
     "execution_count": 12,
     "metadata": {},
     "output_type": "execute_result"
    }
   ],
   "source": [
    "df2 = World_Data.rename(columns={'Date': 'fecha','Country/Region':'region','Confirmed':'c_conf','Deaths':'c_muertes','Recovered':'c_rec','Active':'c_activos','New cases':'n_casos','New deaths':'n_muertes','New recovered':'n_rec','WHO Region':'w_region'})\n",
    "df2.head(1)"
   ]
  },
  {
   "cell_type": "code",
   "execution_count": 13,
   "id": "1a8e75fd",
   "metadata": {},
   "outputs": [
    {
     "data": {
      "text/html": [
       "<div>\n",
       "<style scoped>\n",
       "    .dataframe tbody tr th:only-of-type {\n",
       "        vertical-align: middle;\n",
       "    }\n",
       "\n",
       "    .dataframe tbody tr th {\n",
       "        vertical-align: top;\n",
       "    }\n",
       "\n",
       "    .dataframe thead th {\n",
       "        text-align: right;\n",
       "    }\n",
       "</style>\n",
       "<table border=\"1\" class=\"dataframe\">\n",
       "  <thead>\n",
       "    <tr style=\"text-align: right;\">\n",
       "      <th></th>\n",
       "      <th>fecha</th>\n",
       "      <th>region</th>\n",
       "      <th>c_conf</th>\n",
       "      <th>c_muertes</th>\n",
       "      <th>c_rec</th>\n",
       "      <th>c_activos</th>\n",
       "      <th>n_casos</th>\n",
       "      <th>n_muertes</th>\n",
       "      <th>n_rec</th>\n",
       "      <th>w_region</th>\n",
       "    </tr>\n",
       "  </thead>\n",
       "  <tbody>\n",
       "    <tr>\n",
       "      <th>0</th>\n",
       "      <td>2020-01-22</td>\n",
       "      <td>Afghanistan</td>\n",
       "      <td>0</td>\n",
       "      <td>0</td>\n",
       "      <td>0</td>\n",
       "      <td>0</td>\n",
       "      <td>0</td>\n",
       "      <td>0</td>\n",
       "      <td>0</td>\n",
       "      <td>Eastern Mediterranean</td>\n",
       "    </tr>\n",
       "    <tr>\n",
       "      <th>1</th>\n",
       "      <td>2020-01-22</td>\n",
       "      <td>Albania</td>\n",
       "      <td>0</td>\n",
       "      <td>0</td>\n",
       "      <td>0</td>\n",
       "      <td>0</td>\n",
       "      <td>0</td>\n",
       "      <td>0</td>\n",
       "      <td>0</td>\n",
       "      <td>Europe</td>\n",
       "    </tr>\n",
       "    <tr>\n",
       "      <th>2</th>\n",
       "      <td>2020-01-22</td>\n",
       "      <td>Algeria</td>\n",
       "      <td>0</td>\n",
       "      <td>0</td>\n",
       "      <td>0</td>\n",
       "      <td>0</td>\n",
       "      <td>0</td>\n",
       "      <td>0</td>\n",
       "      <td>0</td>\n",
       "      <td>Africa</td>\n",
       "    </tr>\n",
       "    <tr>\n",
       "      <th>3</th>\n",
       "      <td>2020-01-22</td>\n",
       "      <td>Andorra</td>\n",
       "      <td>0</td>\n",
       "      <td>0</td>\n",
       "      <td>0</td>\n",
       "      <td>0</td>\n",
       "      <td>0</td>\n",
       "      <td>0</td>\n",
       "      <td>0</td>\n",
       "      <td>Europe</td>\n",
       "    </tr>\n",
       "    <tr>\n",
       "      <th>4</th>\n",
       "      <td>2020-01-22</td>\n",
       "      <td>Angola</td>\n",
       "      <td>0</td>\n",
       "      <td>0</td>\n",
       "      <td>0</td>\n",
       "      <td>0</td>\n",
       "      <td>0</td>\n",
       "      <td>0</td>\n",
       "      <td>0</td>\n",
       "      <td>Africa</td>\n",
       "    </tr>\n",
       "    <tr>\n",
       "      <th>...</th>\n",
       "      <td>...</td>\n",
       "      <td>...</td>\n",
       "      <td>...</td>\n",
       "      <td>...</td>\n",
       "      <td>...</td>\n",
       "      <td>...</td>\n",
       "      <td>...</td>\n",
       "      <td>...</td>\n",
       "      <td>...</td>\n",
       "      <td>...</td>\n",
       "    </tr>\n",
       "    <tr>\n",
       "      <th>35151</th>\n",
       "      <td>2020-07-27</td>\n",
       "      <td>West Bank and Gaza</td>\n",
       "      <td>10621</td>\n",
       "      <td>78</td>\n",
       "      <td>3752</td>\n",
       "      <td>6791</td>\n",
       "      <td>152</td>\n",
       "      <td>2</td>\n",
       "      <td>0</td>\n",
       "      <td>Eastern Mediterranean</td>\n",
       "    </tr>\n",
       "    <tr>\n",
       "      <th>35152</th>\n",
       "      <td>2020-07-27</td>\n",
       "      <td>Western Sahara</td>\n",
       "      <td>10</td>\n",
       "      <td>1</td>\n",
       "      <td>8</td>\n",
       "      <td>1</td>\n",
       "      <td>0</td>\n",
       "      <td>0</td>\n",
       "      <td>0</td>\n",
       "      <td>Africa</td>\n",
       "    </tr>\n",
       "    <tr>\n",
       "      <th>35153</th>\n",
       "      <td>2020-07-27</td>\n",
       "      <td>Yemen</td>\n",
       "      <td>1691</td>\n",
       "      <td>483</td>\n",
       "      <td>833</td>\n",
       "      <td>375</td>\n",
       "      <td>10</td>\n",
       "      <td>4</td>\n",
       "      <td>36</td>\n",
       "      <td>Eastern Mediterranean</td>\n",
       "    </tr>\n",
       "    <tr>\n",
       "      <th>35154</th>\n",
       "      <td>2020-07-27</td>\n",
       "      <td>Zambia</td>\n",
       "      <td>4552</td>\n",
       "      <td>140</td>\n",
       "      <td>2815</td>\n",
       "      <td>1597</td>\n",
       "      <td>71</td>\n",
       "      <td>1</td>\n",
       "      <td>465</td>\n",
       "      <td>Africa</td>\n",
       "    </tr>\n",
       "    <tr>\n",
       "      <th>35155</th>\n",
       "      <td>2020-07-27</td>\n",
       "      <td>Zimbabwe</td>\n",
       "      <td>2704</td>\n",
       "      <td>36</td>\n",
       "      <td>542</td>\n",
       "      <td>2126</td>\n",
       "      <td>192</td>\n",
       "      <td>2</td>\n",
       "      <td>24</td>\n",
       "      <td>Africa</td>\n",
       "    </tr>\n",
       "  </tbody>\n",
       "</table>\n",
       "<p>35156 rows × 10 columns</p>\n",
       "</div>"
      ],
      "text/plain": [
       "           fecha              region  c_conf  c_muertes  c_rec  c_activos  \\\n",
       "0     2020-01-22         Afghanistan       0          0      0          0   \n",
       "1     2020-01-22             Albania       0          0      0          0   \n",
       "2     2020-01-22             Algeria       0          0      0          0   \n",
       "3     2020-01-22             Andorra       0          0      0          0   \n",
       "4     2020-01-22              Angola       0          0      0          0   \n",
       "...          ...                 ...     ...        ...    ...        ...   \n",
       "35151 2020-07-27  West Bank and Gaza   10621         78   3752       6791   \n",
       "35152 2020-07-27      Western Sahara      10          1      8          1   \n",
       "35153 2020-07-27               Yemen    1691        483    833        375   \n",
       "35154 2020-07-27              Zambia    4552        140   2815       1597   \n",
       "35155 2020-07-27            Zimbabwe    2704         36    542       2126   \n",
       "\n",
       "       n_casos  n_muertes  n_rec               w_region  \n",
       "0            0          0      0  Eastern Mediterranean  \n",
       "1            0          0      0                 Europe  \n",
       "2            0          0      0                 Africa  \n",
       "3            0          0      0                 Europe  \n",
       "4            0          0      0                 Africa  \n",
       "...        ...        ...    ...                    ...  \n",
       "35151      152          2      0  Eastern Mediterranean  \n",
       "35152        0          0      0                 Africa  \n",
       "35153       10          4     36  Eastern Mediterranean  \n",
       "35154       71          1    465                 Africa  \n",
       "35155      192          2     24                 Africa  \n",
       "\n",
       "[35156 rows x 10 columns]"
      ]
     },
     "execution_count": 13,
     "metadata": {},
     "output_type": "execute_result"
    }
   ],
   "source": [
    "df4=df2.astype({'region':'string','fecha': 'datetime64[ns]','w_region':'string'})\n",
    "df4"
   ]
  },
  {
   "cell_type": "markdown",
   "id": "0a040345",
   "metadata": {},
   "source": [
    "Vamos a mostrar a continuación la media, varianza y desviación estándar de los valores de cada columna agrupando por países. "
   ]
  },
  {
   "cell_type": "markdown",
   "id": "9674afa1",
   "metadata": {},
   "source": [
    "### Promedios por países."
   ]
  },
  {
   "cell_type": "code",
   "execution_count": 14,
   "id": "62ecdeb7",
   "metadata": {},
   "outputs": [
    {
     "data": {
      "text/html": [
       "<div>\n",
       "<style scoped>\n",
       "    .dataframe tbody tr th:only-of-type {\n",
       "        vertical-align: middle;\n",
       "    }\n",
       "\n",
       "    .dataframe tbody tr th {\n",
       "        vertical-align: top;\n",
       "    }\n",
       "\n",
       "    .dataframe thead th {\n",
       "        text-align: right;\n",
       "    }\n",
       "</style>\n",
       "<table border=\"1\" class=\"dataframe\">\n",
       "  <thead>\n",
       "    <tr style=\"text-align: right;\">\n",
       "      <th></th>\n",
       "      <th>Confirmed</th>\n",
       "      <th>Deaths</th>\n",
       "      <th>Recovered</th>\n",
       "      <th>Active</th>\n",
       "      <th>New cases</th>\n",
       "      <th>New deaths</th>\n",
       "      <th>New recovered</th>\n",
       "    </tr>\n",
       "    <tr>\n",
       "      <th>Country/Region</th>\n",
       "      <th></th>\n",
       "      <th></th>\n",
       "      <th></th>\n",
       "      <th></th>\n",
       "      <th></th>\n",
       "      <th></th>\n",
       "      <th></th>\n",
       "    </tr>\n",
       "  </thead>\n",
       "  <tbody>\n",
       "    <tr>\n",
       "      <th>Afghanistan</th>\n",
       "      <td>10299.946809</td>\n",
       "      <td>261.159574</td>\n",
       "      <td>4245.957447</td>\n",
       "      <td>5792.829787</td>\n",
       "      <td>192.888298</td>\n",
       "      <td>6.750000</td>\n",
       "      <td>134.031915</td>\n",
       "    </tr>\n",
       "    <tr>\n",
       "      <th>Albania</th>\n",
       "      <td>1046.287234</td>\n",
       "      <td>30.361702</td>\n",
       "      <td>632.324468</td>\n",
       "      <td>383.601064</td>\n",
       "      <td>25.957447</td>\n",
       "      <td>0.765957</td>\n",
       "      <td>14.601064</td>\n",
       "    </tr>\n",
       "    <tr>\n",
       "      <th>Algeria</th>\n",
       "      <td>6275.292553</td>\n",
       "      <td>414.744681</td>\n",
       "      <td>4020.728723</td>\n",
       "      <td>1839.819149</td>\n",
       "      <td>148.792553</td>\n",
       "      <td>6.186170</td>\n",
       "      <td>100.196809</td>\n",
       "    </tr>\n",
       "    <tr>\n",
       "      <th>Andorra</th>\n",
       "      <td>502.148936</td>\n",
       "      <td>28.845745</td>\n",
       "      <td>367.414894</td>\n",
       "      <td>105.888298</td>\n",
       "      <td>4.824468</td>\n",
       "      <td>0.276596</td>\n",
       "      <td>4.271277</td>\n",
       "    </tr>\n",
       "    <tr>\n",
       "      <th>Angola</th>\n",
       "      <td>120.542553</td>\n",
       "      <td>5.734043</td>\n",
       "      <td>34.962766</td>\n",
       "      <td>79.845745</td>\n",
       "      <td>5.053191</td>\n",
       "      <td>0.218085</td>\n",
       "      <td>1.287234</td>\n",
       "    </tr>\n",
       "    <tr>\n",
       "      <th>...</th>\n",
       "      <td>...</td>\n",
       "      <td>...</td>\n",
       "      <td>...</td>\n",
       "      <td>...</td>\n",
       "      <td>...</td>\n",
       "      <td>...</td>\n",
       "      <td>...</td>\n",
       "    </tr>\n",
       "    <tr>\n",
       "      <th>West Bank and Gaza</th>\n",
       "      <td>1241.813830</td>\n",
       "      <td>7.287234</td>\n",
       "      <td>325.127660</td>\n",
       "      <td>909.398936</td>\n",
       "      <td>56.494681</td>\n",
       "      <td>0.414894</td>\n",
       "      <td>19.957447</td>\n",
       "    </tr>\n",
       "    <tr>\n",
       "      <th>Western Sahara</th>\n",
       "      <td>4.792553</td>\n",
       "      <td>0.335106</td>\n",
       "      <td>3.446809</td>\n",
       "      <td>1.010638</td>\n",
       "      <td>0.053191</td>\n",
       "      <td>0.005319</td>\n",
       "      <td>0.042553</td>\n",
       "    </tr>\n",
       "    <tr>\n",
       "      <th>Yemen</th>\n",
       "      <td>357.340426</td>\n",
       "      <td>94.186170</td>\n",
       "      <td>126.484043</td>\n",
       "      <td>136.670213</td>\n",
       "      <td>8.994681</td>\n",
       "      <td>2.569149</td>\n",
       "      <td>4.430851</td>\n",
       "    </tr>\n",
       "    <tr>\n",
       "      <th>Zambia</th>\n",
       "      <td>688.409574</td>\n",
       "      <td>14.058511</td>\n",
       "      <td>444.739362</td>\n",
       "      <td>229.611702</td>\n",
       "      <td>24.212766</td>\n",
       "      <td>0.744681</td>\n",
       "      <td>14.973404</td>\n",
       "    </tr>\n",
       "    <tr>\n",
       "      <th>Zimbabwe</th>\n",
       "      <td>270.180851</td>\n",
       "      <td>4.686170</td>\n",
       "      <td>64.930851</td>\n",
       "      <td>200.563830</td>\n",
       "      <td>14.414894</td>\n",
       "      <td>0.191489</td>\n",
       "      <td>2.882979</td>\n",
       "    </tr>\n",
       "  </tbody>\n",
       "</table>\n",
       "<p>187 rows × 7 columns</p>\n",
       "</div>"
      ],
      "text/plain": [
       "                       Confirmed      Deaths    Recovered       Active  \\\n",
       "Country/Region                                                           \n",
       "Afghanistan         10299.946809  261.159574  4245.957447  5792.829787   \n",
       "Albania              1046.287234   30.361702   632.324468   383.601064   \n",
       "Algeria              6275.292553  414.744681  4020.728723  1839.819149   \n",
       "Andorra               502.148936   28.845745   367.414894   105.888298   \n",
       "Angola                120.542553    5.734043    34.962766    79.845745   \n",
       "...                          ...         ...          ...          ...   \n",
       "West Bank and Gaza   1241.813830    7.287234   325.127660   909.398936   \n",
       "Western Sahara          4.792553    0.335106     3.446809     1.010638   \n",
       "Yemen                 357.340426   94.186170   126.484043   136.670213   \n",
       "Zambia                688.409574   14.058511   444.739362   229.611702   \n",
       "Zimbabwe              270.180851    4.686170    64.930851   200.563830   \n",
       "\n",
       "                     New cases  New deaths  New recovered  \n",
       "Country/Region                                             \n",
       "Afghanistan         192.888298    6.750000     134.031915  \n",
       "Albania              25.957447    0.765957      14.601064  \n",
       "Algeria             148.792553    6.186170     100.196809  \n",
       "Andorra               4.824468    0.276596       4.271277  \n",
       "Angola                5.053191    0.218085       1.287234  \n",
       "...                        ...         ...            ...  \n",
       "West Bank and Gaza   56.494681    0.414894      19.957447  \n",
       "Western Sahara        0.053191    0.005319       0.042553  \n",
       "Yemen                 8.994681    2.569149       4.430851  \n",
       "Zambia               24.212766    0.744681      14.973404  \n",
       "Zimbabwe             14.414894    0.191489       2.882979  \n",
       "\n",
       "[187 rows x 7 columns]"
      ]
     },
     "execution_count": 14,
     "metadata": {},
     "output_type": "execute_result"
    }
   ],
   "source": [
    "World_Data.groupby('Country/Region').mean()"
   ]
  },
  {
   "cell_type": "code",
   "execution_count": 87,
   "id": "2e2ff765",
   "metadata": {},
   "outputs": [
    {
     "data": {
      "text/plain": [
       "<pandas.core.groupby.generic.DataFrameGroupBy object at 0x000002F2552D6B50>"
      ]
     },
     "execution_count": 87,
     "metadata": {},
     "output_type": "execute_result"
    }
   ],
   "source": [
    "df4.groupby('fecha')"
   ]
  },
  {
   "cell_type": "markdown",
   "id": "cd00fdaa",
   "metadata": {},
   "source": [
    "### Varianza por países."
   ]
  },
  {
   "cell_type": "code",
   "execution_count": 15,
   "id": "69be454c",
   "metadata": {},
   "outputs": [
    {
     "data": {
      "text/html": [
       "<div>\n",
       "<style scoped>\n",
       "    .dataframe tbody tr th:only-of-type {\n",
       "        vertical-align: middle;\n",
       "    }\n",
       "\n",
       "    .dataframe tbody tr th {\n",
       "        vertical-align: top;\n",
       "    }\n",
       "\n",
       "    .dataframe thead th {\n",
       "        text-align: right;\n",
       "    }\n",
       "</style>\n",
       "<table border=\"1\" class=\"dataframe\">\n",
       "  <thead>\n",
       "    <tr style=\"text-align: right;\">\n",
       "      <th></th>\n",
       "      <th>Confirmed</th>\n",
       "      <th>Deaths</th>\n",
       "      <th>Recovered</th>\n",
       "      <th>Active</th>\n",
       "      <th>New cases</th>\n",
       "      <th>New deaths</th>\n",
       "      <th>New recovered</th>\n",
       "    </tr>\n",
       "    <tr>\n",
       "      <th>Country/Region</th>\n",
       "      <th></th>\n",
       "      <th></th>\n",
       "      <th></th>\n",
       "      <th></th>\n",
       "      <th></th>\n",
       "      <th></th>\n",
       "      <th></th>\n",
       "    </tr>\n",
       "  </thead>\n",
       "  <tbody>\n",
       "    <tr>\n",
       "      <th>Afghanistan</th>\n",
       "      <td>1.811391e+08</td>\n",
       "      <td>141689.878143</td>\n",
       "      <td>5.965929e+07</td>\n",
       "      <td>4.984244e+07</td>\n",
       "      <td>59445.479435</td>\n",
       "      <td>93.536096</td>\n",
       "      <td>97522.651382</td>\n",
       "    </tr>\n",
       "    <tr>\n",
       "      <th>Albania</th>\n",
       "      <td>1.598637e+06</td>\n",
       "      <td>1121.098418</td>\n",
       "      <td>5.368715e+05</td>\n",
       "      <td>2.632729e+05</td>\n",
       "      <td>1007.634543</td>\n",
       "      <td>1.677551</td>\n",
       "      <td>323.866737</td>\n",
       "    </tr>\n",
       "    <tr>\n",
       "      <th>Algeria</th>\n",
       "      <td>5.386574e+07</td>\n",
       "      <td>150094.394357</td>\n",
       "      <td>2.689544e+07</td>\n",
       "      <td>3.510789e+06</td>\n",
       "      <td>29700.496843</td>\n",
       "      <td>33.863551</td>\n",
       "      <td>18230.950364</td>\n",
       "    </tr>\n",
       "    <tr>\n",
       "      <th>Andorra</th>\n",
       "      <td>1.379831e+05</td>\n",
       "      <td>541.820998</td>\n",
       "      <td>1.223387e+05</td>\n",
       "      <td>2.433722e+04</td>\n",
       "      <td>119.942286</td>\n",
       "      <td>0.479235</td>\n",
       "      <td>83.257566</td>\n",
       "    </tr>\n",
       "    <tr>\n",
       "      <th>Angola</th>\n",
       "      <td>4.585971e+04</td>\n",
       "      <td>86.987712</td>\n",
       "      <td>3.549426e+03</td>\n",
       "      <td>2.144615e+04</td>\n",
       "      <td>119.826033</td>\n",
       "      <td>0.363949</td>\n",
       "      <td>37.200478</td>\n",
       "    </tr>\n",
       "    <tr>\n",
       "      <th>...</th>\n",
       "      <td>...</td>\n",
       "      <td>...</td>\n",
       "      <td>...</td>\n",
       "      <td>...</td>\n",
       "      <td>...</td>\n",
       "      <td>...</td>\n",
       "      <td>...</td>\n",
       "    </tr>\n",
       "    <tr>\n",
       "      <th>West Bank and Gaza</th>\n",
       "      <td>6.319992e+06</td>\n",
       "      <td>285.863579</td>\n",
       "      <td>3.768290e+05</td>\n",
       "      <td>3.828715e+06</td>\n",
       "      <td>13284.197833</td>\n",
       "      <td>1.356355</td>\n",
       "      <td>7779.292297</td>\n",
       "    </tr>\n",
       "    <tr>\n",
       "      <th>Western Sahara</th>\n",
       "      <td>1.740593e+01</td>\n",
       "      <td>0.224002</td>\n",
       "      <td>1.221641e+01</td>\n",
       "      <td>2.459779e+00</td>\n",
       "      <td>0.157583</td>\n",
       "      <td>0.005319</td>\n",
       "      <td>0.158607</td>\n",
       "    </tr>\n",
       "    <tr>\n",
       "      <th>Yemen</th>\n",
       "      <td>3.006915e+05</td>\n",
       "      <td>22854.120236</td>\n",
       "      <td>5.957592e+04</td>\n",
       "      <td>3.230302e+04</td>\n",
       "      <td>241.673768</td>\n",
       "      <td>37.562038</td>\n",
       "      <td>230.064712</td>\n",
       "    </tr>\n",
       "    <tr>\n",
       "      <th>Zambia</th>\n",
       "      <td>9.736507e+05</td>\n",
       "      <td>947.659660</td>\n",
       "      <td>3.777380e+05</td>\n",
       "      <td>1.740437e+05</td>\n",
       "      <td>7686.799408</td>\n",
       "      <td>26.126977</td>\n",
       "      <td>3851.009984</td>\n",
       "    </tr>\n",
       "    <tr>\n",
       "      <th>Zimbabwe</th>\n",
       "      <td>2.739793e+05</td>\n",
       "      <td>52.077455</td>\n",
       "      <td>1.765267e+04</td>\n",
       "      <td>1.505436e+05</td>\n",
       "      <td>1453.153146</td>\n",
       "      <td>0.465810</td>\n",
       "      <td>120.253612</td>\n",
       "    </tr>\n",
       "  </tbody>\n",
       "</table>\n",
       "<p>187 rows × 7 columns</p>\n",
       "</div>"
      ],
      "text/plain": [
       "                       Confirmed         Deaths     Recovered        Active  \\\n",
       "Country/Region                                                                \n",
       "Afghanistan         1.811391e+08  141689.878143  5.965929e+07  4.984244e+07   \n",
       "Albania             1.598637e+06    1121.098418  5.368715e+05  2.632729e+05   \n",
       "Algeria             5.386574e+07  150094.394357  2.689544e+07  3.510789e+06   \n",
       "Andorra             1.379831e+05     541.820998  1.223387e+05  2.433722e+04   \n",
       "Angola              4.585971e+04      86.987712  3.549426e+03  2.144615e+04   \n",
       "...                          ...            ...           ...           ...   \n",
       "West Bank and Gaza  6.319992e+06     285.863579  3.768290e+05  3.828715e+06   \n",
       "Western Sahara      1.740593e+01       0.224002  1.221641e+01  2.459779e+00   \n",
       "Yemen               3.006915e+05   22854.120236  5.957592e+04  3.230302e+04   \n",
       "Zambia              9.736507e+05     947.659660  3.777380e+05  1.740437e+05   \n",
       "Zimbabwe            2.739793e+05      52.077455  1.765267e+04  1.505436e+05   \n",
       "\n",
       "                       New cases  New deaths  New recovered  \n",
       "Country/Region                                               \n",
       "Afghanistan         59445.479435   93.536096   97522.651382  \n",
       "Albania              1007.634543    1.677551     323.866737  \n",
       "Algeria             29700.496843   33.863551   18230.950364  \n",
       "Andorra               119.942286    0.479235      83.257566  \n",
       "Angola                119.826033    0.363949      37.200478  \n",
       "...                          ...         ...            ...  \n",
       "West Bank and Gaza  13284.197833    1.356355    7779.292297  \n",
       "Western Sahara          0.157583    0.005319       0.158607  \n",
       "Yemen                 241.673768   37.562038     230.064712  \n",
       "Zambia               7686.799408   26.126977    3851.009984  \n",
       "Zimbabwe             1453.153146    0.465810     120.253612  \n",
       "\n",
       "[187 rows x 7 columns]"
      ]
     },
     "execution_count": 15,
     "metadata": {},
     "output_type": "execute_result"
    }
   ],
   "source": [
    "World_Data.groupby('Country/Region').var()"
   ]
  },
  {
   "cell_type": "markdown",
   "id": "d5736039",
   "metadata": {},
   "source": [
    "### Desviación estándar por países."
   ]
  },
  {
   "cell_type": "code",
   "execution_count": 16,
   "id": "d9548f0d",
   "metadata": {},
   "outputs": [
    {
     "data": {
      "text/html": [
       "<div>\n",
       "<style scoped>\n",
       "    .dataframe tbody tr th:only-of-type {\n",
       "        vertical-align: middle;\n",
       "    }\n",
       "\n",
       "    .dataframe tbody tr th {\n",
       "        vertical-align: top;\n",
       "    }\n",
       "\n",
       "    .dataframe thead th {\n",
       "        text-align: right;\n",
       "    }\n",
       "</style>\n",
       "<table border=\"1\" class=\"dataframe\">\n",
       "  <thead>\n",
       "    <tr style=\"text-align: right;\">\n",
       "      <th></th>\n",
       "      <th>Confirmed</th>\n",
       "      <th>Deaths</th>\n",
       "      <th>Recovered</th>\n",
       "      <th>Active</th>\n",
       "      <th>New cases</th>\n",
       "      <th>New deaths</th>\n",
       "      <th>New recovered</th>\n",
       "    </tr>\n",
       "    <tr>\n",
       "      <th>Country/Region</th>\n",
       "      <th></th>\n",
       "      <th></th>\n",
       "      <th></th>\n",
       "      <th></th>\n",
       "      <th></th>\n",
       "      <th></th>\n",
       "      <th></th>\n",
       "    </tr>\n",
       "  </thead>\n",
       "  <tbody>\n",
       "    <tr>\n",
       "      <th>Afghanistan</th>\n",
       "      <td>13458.792417</td>\n",
       "      <td>376.417160</td>\n",
       "      <td>7723.942474</td>\n",
       "      <td>7059.917579</td>\n",
       "      <td>243.814436</td>\n",
       "      <td>9.671406</td>\n",
       "      <td>312.286169</td>\n",
       "    </tr>\n",
       "    <tr>\n",
       "      <th>Albania</th>\n",
       "      <td>1264.372255</td>\n",
       "      <td>33.482808</td>\n",
       "      <td>732.715122</td>\n",
       "      <td>513.101303</td>\n",
       "      <td>31.743260</td>\n",
       "      <td>1.295203</td>\n",
       "      <td>17.996298</td>\n",
       "    </tr>\n",
       "    <tr>\n",
       "      <th>Algeria</th>\n",
       "      <td>7339.328093</td>\n",
       "      <td>387.420178</td>\n",
       "      <td>5186.080994</td>\n",
       "      <td>1873.709957</td>\n",
       "      <td>172.338321</td>\n",
       "      <td>5.819240</td>\n",
       "      <td>135.022037</td>\n",
       "    </tr>\n",
       "    <tr>\n",
       "      <th>Andorra</th>\n",
       "      <td>371.460824</td>\n",
       "      <td>23.277049</td>\n",
       "      <td>349.769547</td>\n",
       "      <td>156.003919</td>\n",
       "      <td>10.951817</td>\n",
       "      <td>0.692268</td>\n",
       "      <td>9.124558</td>\n",
       "    </tr>\n",
       "    <tr>\n",
       "      <th>Angola</th>\n",
       "      <td>214.148815</td>\n",
       "      <td>9.326720</td>\n",
       "      <td>59.577063</td>\n",
       "      <td>146.445050</td>\n",
       "      <td>10.946508</td>\n",
       "      <td>0.603282</td>\n",
       "      <td>6.099219</td>\n",
       "    </tr>\n",
       "    <tr>\n",
       "      <th>...</th>\n",
       "      <td>...</td>\n",
       "      <td>...</td>\n",
       "      <td>...</td>\n",
       "      <td>...</td>\n",
       "      <td>...</td>\n",
       "      <td>...</td>\n",
       "      <td>...</td>\n",
       "    </tr>\n",
       "    <tr>\n",
       "      <th>West Bank and Gaza</th>\n",
       "      <td>2513.959434</td>\n",
       "      <td>16.907501</td>\n",
       "      <td>613.864009</td>\n",
       "      <td>1956.710157</td>\n",
       "      <td>115.257094</td>\n",
       "      <td>1.164626</td>\n",
       "      <td>88.200296</td>\n",
       "    </tr>\n",
       "    <tr>\n",
       "      <th>Western Sahara</th>\n",
       "      <td>4.172042</td>\n",
       "      <td>0.473288</td>\n",
       "      <td>3.495198</td>\n",
       "      <td>1.568368</td>\n",
       "      <td>0.396968</td>\n",
       "      <td>0.072932</td>\n",
       "      <td>0.398255</td>\n",
       "    </tr>\n",
       "    <tr>\n",
       "      <th>Yemen</th>\n",
       "      <td>548.353443</td>\n",
       "      <td>151.175792</td>\n",
       "      <td>244.081789</td>\n",
       "      <td>179.730421</td>\n",
       "      <td>15.545860</td>\n",
       "      <td>6.128788</td>\n",
       "      <td>15.167884</td>\n",
       "    </tr>\n",
       "    <tr>\n",
       "      <th>Zambia</th>\n",
       "      <td>986.737387</td>\n",
       "      <td>30.784081</td>\n",
       "      <td>614.603956</td>\n",
       "      <td>417.185481</td>\n",
       "      <td>87.674394</td>\n",
       "      <td>5.111455</td>\n",
       "      <td>62.056506</td>\n",
       "    </tr>\n",
       "    <tr>\n",
       "      <th>Zimbabwe</th>\n",
       "      <td>523.430314</td>\n",
       "      <td>7.216471</td>\n",
       "      <td>132.863367</td>\n",
       "      <td>387.999505</td>\n",
       "      <td>38.120246</td>\n",
       "      <td>0.682502</td>\n",
       "      <td>10.966021</td>\n",
       "    </tr>\n",
       "  </tbody>\n",
       "</table>\n",
       "<p>187 rows × 7 columns</p>\n",
       "</div>"
      ],
      "text/plain": [
       "                       Confirmed      Deaths    Recovered       Active  \\\n",
       "Country/Region                                                           \n",
       "Afghanistan         13458.792417  376.417160  7723.942474  7059.917579   \n",
       "Albania              1264.372255   33.482808   732.715122   513.101303   \n",
       "Algeria              7339.328093  387.420178  5186.080994  1873.709957   \n",
       "Andorra               371.460824   23.277049   349.769547   156.003919   \n",
       "Angola                214.148815    9.326720    59.577063   146.445050   \n",
       "...                          ...         ...          ...          ...   \n",
       "West Bank and Gaza   2513.959434   16.907501   613.864009  1956.710157   \n",
       "Western Sahara          4.172042    0.473288     3.495198     1.568368   \n",
       "Yemen                 548.353443  151.175792   244.081789   179.730421   \n",
       "Zambia                986.737387   30.784081   614.603956   417.185481   \n",
       "Zimbabwe              523.430314    7.216471   132.863367   387.999505   \n",
       "\n",
       "                     New cases  New deaths  New recovered  \n",
       "Country/Region                                             \n",
       "Afghanistan         243.814436    9.671406     312.286169  \n",
       "Albania              31.743260    1.295203      17.996298  \n",
       "Algeria             172.338321    5.819240     135.022037  \n",
       "Andorra              10.951817    0.692268       9.124558  \n",
       "Angola               10.946508    0.603282       6.099219  \n",
       "...                        ...         ...            ...  \n",
       "West Bank and Gaza  115.257094    1.164626      88.200296  \n",
       "Western Sahara        0.396968    0.072932       0.398255  \n",
       "Yemen                15.545860    6.128788      15.167884  \n",
       "Zambia               87.674394    5.111455      62.056506  \n",
       "Zimbabwe             38.120246    0.682502      10.966021  \n",
       "\n",
       "[187 rows x 7 columns]"
      ]
     },
     "execution_count": 16,
     "metadata": {},
     "output_type": "execute_result"
    }
   ],
   "source": [
    "World_Data.groupby('Country/Region').std()"
   ]
  },
  {
   "cell_type": "markdown",
   "id": "abc74eff",
   "metadata": {},
   "source": [
    "### Paises con mayor número de casos confirmados de Covid 19.\n",
    "Aquí se muestran los 5 valores más altos de casos confirmados de Covid 19 que se han registrado en el último mes. (En este caso corresponde a Julio del 2020)"
   ]
  },
  {
   "cell_type": "code",
   "execution_count": 17,
   "id": "f5f5ea45",
   "metadata": {},
   "outputs": [
    {
     "data": {
      "text/html": [
       "<div>\n",
       "<style scoped>\n",
       "    .dataframe tbody tr th:only-of-type {\n",
       "        vertical-align: middle;\n",
       "    }\n",
       "\n",
       "    .dataframe tbody tr th {\n",
       "        vertical-align: top;\n",
       "    }\n",
       "\n",
       "    .dataframe thead th {\n",
       "        text-align: right;\n",
       "    }\n",
       "</style>\n",
       "<table border=\"1\" class=\"dataframe\">\n",
       "  <thead>\n",
       "    <tr style=\"text-align: right;\">\n",
       "      <th></th>\n",
       "      <th>fecha</th>\n",
       "      <th>region</th>\n",
       "      <th>c_conf</th>\n",
       "      <th>w_region</th>\n",
       "    </tr>\n",
       "  </thead>\n",
       "  <tbody>\n",
       "    <tr>\n",
       "      <th>35142</th>\n",
       "      <td>2020-07-27</td>\n",
       "      <td>US</td>\n",
       "      <td>4290259</td>\n",
       "      <td>Americas</td>\n",
       "    </tr>\n",
       "    <tr>\n",
       "      <th>34955</th>\n",
       "      <td>2020-07-26</td>\n",
       "      <td>US</td>\n",
       "      <td>4233923</td>\n",
       "      <td>Americas</td>\n",
       "    </tr>\n",
       "    <tr>\n",
       "      <th>34768</th>\n",
       "      <td>2020-07-25</td>\n",
       "      <td>US</td>\n",
       "      <td>4178970</td>\n",
       "      <td>Americas</td>\n",
       "    </tr>\n",
       "    <tr>\n",
       "      <th>34581</th>\n",
       "      <td>2020-07-24</td>\n",
       "      <td>US</td>\n",
       "      <td>4112531</td>\n",
       "      <td>Americas</td>\n",
       "    </tr>\n",
       "    <tr>\n",
       "      <th>34394</th>\n",
       "      <td>2020-07-23</td>\n",
       "      <td>US</td>\n",
       "      <td>4038816</td>\n",
       "      <td>Americas</td>\n",
       "    </tr>\n",
       "  </tbody>\n",
       "</table>\n",
       "</div>"
      ],
      "text/plain": [
       "           fecha region   c_conf  w_region\n",
       "35142 2020-07-27     US  4290259  Americas\n",
       "34955 2020-07-26     US  4233923  Americas\n",
       "34768 2020-07-25     US  4178970  Americas\n",
       "34581 2020-07-24     US  4112531  Americas\n",
       "34394 2020-07-23     US  4038816  Americas"
      ]
     },
     "execution_count": 17,
     "metadata": {},
     "output_type": "execute_result"
    }
   ],
   "source": [
    "df4.sort_values(by='c_conf',ascending=False)[['fecha','region','c_conf','w_region']].head(5)"
   ]
  },
  {
   "cell_type": "markdown",
   "id": "24a16e9c",
   "metadata": {},
   "source": [
    "### Paises con menor número de casos confirmados de Covid 19.\n",
    "Aquí se muestran los 5 valores más bajos de casos confirmados de Covid 19 que se han registrado."
   ]
  },
  {
   "cell_type": "code",
   "execution_count": 18,
   "id": "390e53af",
   "metadata": {},
   "outputs": [
    {
     "data": {
      "text/html": [
       "<div>\n",
       "<style scoped>\n",
       "    .dataframe tbody tr th:only-of-type {\n",
       "        vertical-align: middle;\n",
       "    }\n",
       "\n",
       "    .dataframe tbody tr th {\n",
       "        vertical-align: top;\n",
       "    }\n",
       "\n",
       "    .dataframe thead th {\n",
       "        text-align: right;\n",
       "    }\n",
       "</style>\n",
       "<table border=\"1\" class=\"dataframe\">\n",
       "  <thead>\n",
       "    <tr style=\"text-align: right;\">\n",
       "      <th></th>\n",
       "      <th>fecha</th>\n",
       "      <th>region</th>\n",
       "      <th>c_conf</th>\n",
       "      <th>w_region</th>\n",
       "    </tr>\n",
       "  </thead>\n",
       "  <tbody>\n",
       "    <tr>\n",
       "      <th>0</th>\n",
       "      <td>2020-01-22</td>\n",
       "      <td>Afghanistan</td>\n",
       "      <td>0</td>\n",
       "      <td>Eastern Mediterranean</td>\n",
       "    </tr>\n",
       "    <tr>\n",
       "      <th>5912</th>\n",
       "      <td>2020-02-22</td>\n",
       "      <td>Montenegro</td>\n",
       "      <td>0</td>\n",
       "      <td>Europe</td>\n",
       "    </tr>\n",
       "    <tr>\n",
       "      <th>5911</th>\n",
       "      <td>2020-02-22</td>\n",
       "      <td>Mongolia</td>\n",
       "      <td>0</td>\n",
       "      <td>Western Pacific</td>\n",
       "    </tr>\n",
       "    <tr>\n",
       "      <th>5910</th>\n",
       "      <td>2020-02-22</td>\n",
       "      <td>Monaco</td>\n",
       "      <td>0</td>\n",
       "      <td>Europe</td>\n",
       "    </tr>\n",
       "    <tr>\n",
       "      <th>5909</th>\n",
       "      <td>2020-02-22</td>\n",
       "      <td>Moldova</td>\n",
       "      <td>0</td>\n",
       "      <td>Europe</td>\n",
       "    </tr>\n",
       "  </tbody>\n",
       "</table>\n",
       "</div>"
      ],
      "text/plain": [
       "          fecha       region  c_conf               w_region\n",
       "0    2020-01-22  Afghanistan       0  Eastern Mediterranean\n",
       "5912 2020-02-22   Montenegro       0                 Europe\n",
       "5911 2020-02-22     Mongolia       0        Western Pacific\n",
       "5910 2020-02-22       Monaco       0                 Europe\n",
       "5909 2020-02-22      Moldova       0                 Europe"
      ]
     },
     "execution_count": 18,
     "metadata": {},
     "output_type": "execute_result"
    }
   ],
   "source": [
    "df4.sort_values(by='c_conf',ascending=True)[['fecha','region','c_conf','w_region']].head(5)"
   ]
  },
  {
   "cell_type": "markdown",
   "id": "18ee53d2",
   "metadata": {},
   "source": [
    "### Rango casos confirmados Covid 19."
   ]
  },
  {
   "cell_type": "code",
   "execution_count": 19,
   "id": "3d720cbd",
   "metadata": {},
   "outputs": [
    {
     "name": "stdout",
     "output_type": "stream",
     "text": [
      "4290259\n"
     ]
    }
   ],
   "source": [
    "Range1 = 4290259-0\n",
    "print(Range1)"
   ]
  },
  {
   "cell_type": "markdown",
   "id": "f8498226",
   "metadata": {},
   "source": [
    "### Paises con mayor número de personas fallecidas por Covid 19.\n",
    "Aquí se muestran los 5 valores más altos de personas fallecidas a causa del Covid 19."
   ]
  },
  {
   "cell_type": "code",
   "execution_count": 20,
   "id": "c5753339",
   "metadata": {},
   "outputs": [
    {
     "data": {
      "text/html": [
       "<div>\n",
       "<style scoped>\n",
       "    .dataframe tbody tr th:only-of-type {\n",
       "        vertical-align: middle;\n",
       "    }\n",
       "\n",
       "    .dataframe tbody tr th {\n",
       "        vertical-align: top;\n",
       "    }\n",
       "\n",
       "    .dataframe thead th {\n",
       "        text-align: right;\n",
       "    }\n",
       "</style>\n",
       "<table border=\"1\" class=\"dataframe\">\n",
       "  <thead>\n",
       "    <tr style=\"text-align: right;\">\n",
       "      <th></th>\n",
       "      <th>fecha</th>\n",
       "      <th>region</th>\n",
       "      <th>c_muertes</th>\n",
       "      <th>w_region</th>\n",
       "    </tr>\n",
       "  </thead>\n",
       "  <tbody>\n",
       "    <tr>\n",
       "      <th>35142</th>\n",
       "      <td>2020-07-27</td>\n",
       "      <td>US</td>\n",
       "      <td>148011</td>\n",
       "      <td>Americas</td>\n",
       "    </tr>\n",
       "    <tr>\n",
       "      <th>34955</th>\n",
       "      <td>2020-07-26</td>\n",
       "      <td>US</td>\n",
       "      <td>146935</td>\n",
       "      <td>Americas</td>\n",
       "    </tr>\n",
       "    <tr>\n",
       "      <th>34768</th>\n",
       "      <td>2020-07-25</td>\n",
       "      <td>US</td>\n",
       "      <td>146465</td>\n",
       "      <td>Americas</td>\n",
       "    </tr>\n",
       "    <tr>\n",
       "      <th>34581</th>\n",
       "      <td>2020-07-24</td>\n",
       "      <td>US</td>\n",
       "      <td>145560</td>\n",
       "      <td>Americas</td>\n",
       "    </tr>\n",
       "    <tr>\n",
       "      <th>34394</th>\n",
       "      <td>2020-07-23</td>\n",
       "      <td>US</td>\n",
       "      <td>144430</td>\n",
       "      <td>Americas</td>\n",
       "    </tr>\n",
       "  </tbody>\n",
       "</table>\n",
       "</div>"
      ],
      "text/plain": [
       "           fecha region  c_muertes  w_region\n",
       "35142 2020-07-27     US     148011  Americas\n",
       "34955 2020-07-26     US     146935  Americas\n",
       "34768 2020-07-25     US     146465  Americas\n",
       "34581 2020-07-24     US     145560  Americas\n",
       "34394 2020-07-23     US     144430  Americas"
      ]
     },
     "execution_count": 20,
     "metadata": {},
     "output_type": "execute_result"
    }
   ],
   "source": [
    "df4.sort_values(by='c_muertes',ascending=False)[['fecha','region','c_muertes','w_region']].head(5)"
   ]
  },
  {
   "cell_type": "markdown",
   "id": "6a893a52",
   "metadata": {},
   "source": [
    "### Paises con menor número de personas fallecidas por Covid 19.\n",
    "Aquí se muestran los 5 valores más bajos de personas fallecidas a causa del Covid 19."
   ]
  },
  {
   "cell_type": "code",
   "execution_count": 21,
   "id": "625bf302",
   "metadata": {},
   "outputs": [
    {
     "data": {
      "text/html": [
       "<div>\n",
       "<style scoped>\n",
       "    .dataframe tbody tr th:only-of-type {\n",
       "        vertical-align: middle;\n",
       "    }\n",
       "\n",
       "    .dataframe tbody tr th {\n",
       "        vertical-align: top;\n",
       "    }\n",
       "\n",
       "    .dataframe thead th {\n",
       "        text-align: right;\n",
       "    }\n",
       "</style>\n",
       "<table border=\"1\" class=\"dataframe\">\n",
       "  <thead>\n",
       "    <tr style=\"text-align: right;\">\n",
       "      <th></th>\n",
       "      <th>fecha</th>\n",
       "      <th>region</th>\n",
       "      <th>c_muertes</th>\n",
       "      <th>w_region</th>\n",
       "    </tr>\n",
       "  </thead>\n",
       "  <tbody>\n",
       "    <tr>\n",
       "      <th>0</th>\n",
       "      <td>2020-01-22</td>\n",
       "      <td>Afghanistan</td>\n",
       "      <td>0</td>\n",
       "      <td>Eastern Mediterranean</td>\n",
       "    </tr>\n",
       "    <tr>\n",
       "      <th>9736</th>\n",
       "      <td>2020-03-14</td>\n",
       "      <td>Bahrain</td>\n",
       "      <td>0</td>\n",
       "      <td>Eastern Mediterranean</td>\n",
       "    </tr>\n",
       "    <tr>\n",
       "      <th>9737</th>\n",
       "      <td>2020-03-14</td>\n",
       "      <td>Bangladesh</td>\n",
       "      <td>0</td>\n",
       "      <td>South-East Asia</td>\n",
       "    </tr>\n",
       "    <tr>\n",
       "      <th>9738</th>\n",
       "      <td>2020-03-14</td>\n",
       "      <td>Barbados</td>\n",
       "      <td>0</td>\n",
       "      <td>Americas</td>\n",
       "    </tr>\n",
       "    <tr>\n",
       "      <th>9739</th>\n",
       "      <td>2020-03-14</td>\n",
       "      <td>Belarus</td>\n",
       "      <td>0</td>\n",
       "      <td>Europe</td>\n",
       "    </tr>\n",
       "  </tbody>\n",
       "</table>\n",
       "</div>"
      ],
      "text/plain": [
       "          fecha       region  c_muertes               w_region\n",
       "0    2020-01-22  Afghanistan          0  Eastern Mediterranean\n",
       "9736 2020-03-14      Bahrain          0  Eastern Mediterranean\n",
       "9737 2020-03-14   Bangladesh          0        South-East Asia\n",
       "9738 2020-03-14     Barbados          0               Americas\n",
       "9739 2020-03-14      Belarus          0                 Europe"
      ]
     },
     "execution_count": 21,
     "metadata": {},
     "output_type": "execute_result"
    }
   ],
   "source": [
    "df4.sort_values(by='c_muertes',ascending=True)[['fecha','region','c_muertes','w_region']].head(5)"
   ]
  },
  {
   "cell_type": "markdown",
   "id": "7a37045e",
   "metadata": {},
   "source": [
    "### Rango casos \"muertes\" Covid 19."
   ]
  },
  {
   "cell_type": "code",
   "execution_count": 22,
   "id": "af0a3b50",
   "metadata": {},
   "outputs": [
    {
     "name": "stdout",
     "output_type": "stream",
     "text": [
      "148011\n"
     ]
    }
   ],
   "source": [
    "Range2 = 148011-0\n",
    "print(Range2)"
   ]
  },
  {
   "cell_type": "markdown",
   "id": "f2e22502",
   "metadata": {},
   "source": [
    "### Países con mayor número de personas recuperadas del Covid 19."
   ]
  },
  {
   "cell_type": "code",
   "execution_count": 23,
   "id": "95f665d6",
   "metadata": {},
   "outputs": [
    {
     "data": {
      "text/html": [
       "<div>\n",
       "<style scoped>\n",
       "    .dataframe tbody tr th:only-of-type {\n",
       "        vertical-align: middle;\n",
       "    }\n",
       "\n",
       "    .dataframe tbody tr th {\n",
       "        vertical-align: top;\n",
       "    }\n",
       "\n",
       "    .dataframe thead th {\n",
       "        text-align: right;\n",
       "    }\n",
       "</style>\n",
       "<table border=\"1\" class=\"dataframe\">\n",
       "  <thead>\n",
       "    <tr style=\"text-align: right;\">\n",
       "      <th></th>\n",
       "      <th>fecha</th>\n",
       "      <th>region</th>\n",
       "      <th>c_rec</th>\n",
       "      <th>w_region</th>\n",
       "    </tr>\n",
       "  </thead>\n",
       "  <tbody>\n",
       "    <tr>\n",
       "      <th>34992</th>\n",
       "      <td>2020-07-27</td>\n",
       "      <td>Brazil</td>\n",
       "      <td>1846641</td>\n",
       "      <td>Americas</td>\n",
       "    </tr>\n",
       "    <tr>\n",
       "      <th>34805</th>\n",
       "      <td>2020-07-26</td>\n",
       "      <td>Brazil</td>\n",
       "      <td>1812913</td>\n",
       "      <td>Americas</td>\n",
       "    </tr>\n",
       "    <tr>\n",
       "      <th>34618</th>\n",
       "      <td>2020-07-25</td>\n",
       "      <td>Brazil</td>\n",
       "      <td>1785359</td>\n",
       "      <td>Americas</td>\n",
       "    </tr>\n",
       "    <tr>\n",
       "      <th>34431</th>\n",
       "      <td>2020-07-24</td>\n",
       "      <td>Brazil</td>\n",
       "      <td>1693214</td>\n",
       "      <td>Americas</td>\n",
       "    </tr>\n",
       "    <tr>\n",
       "      <th>34244</th>\n",
       "      <td>2020-07-23</td>\n",
       "      <td>Brazil</td>\n",
       "      <td>1620313</td>\n",
       "      <td>Americas</td>\n",
       "    </tr>\n",
       "  </tbody>\n",
       "</table>\n",
       "</div>"
      ],
      "text/plain": [
       "           fecha  region    c_rec  w_region\n",
       "34992 2020-07-27  Brazil  1846641  Americas\n",
       "34805 2020-07-26  Brazil  1812913  Americas\n",
       "34618 2020-07-25  Brazil  1785359  Americas\n",
       "34431 2020-07-24  Brazil  1693214  Americas\n",
       "34244 2020-07-23  Brazil  1620313  Americas"
      ]
     },
     "execution_count": 23,
     "metadata": {},
     "output_type": "execute_result"
    }
   ],
   "source": [
    "df4.sort_values(by='c_rec',ascending=False)[['fecha','region','c_rec','w_region']].head(5)"
   ]
  },
  {
   "cell_type": "markdown",
   "id": "449e7013",
   "metadata": {},
   "source": [
    "### Países con menor número de personas recuperadas del Covid 19."
   ]
  },
  {
   "cell_type": "code",
   "execution_count": 24,
   "id": "c129c75b",
   "metadata": {},
   "outputs": [
    {
     "data": {
      "text/html": [
       "<div>\n",
       "<style scoped>\n",
       "    .dataframe tbody tr th:only-of-type {\n",
       "        vertical-align: middle;\n",
       "    }\n",
       "\n",
       "    .dataframe tbody tr th {\n",
       "        vertical-align: top;\n",
       "    }\n",
       "\n",
       "    .dataframe thead th {\n",
       "        text-align: right;\n",
       "    }\n",
       "</style>\n",
       "<table border=\"1\" class=\"dataframe\">\n",
       "  <thead>\n",
       "    <tr style=\"text-align: right;\">\n",
       "      <th></th>\n",
       "      <th>fecha</th>\n",
       "      <th>region</th>\n",
       "      <th>c_rec</th>\n",
       "      <th>w_region</th>\n",
       "    </tr>\n",
       "  </thead>\n",
       "  <tbody>\n",
       "    <tr>\n",
       "      <th>0</th>\n",
       "      <td>2020-01-22</td>\n",
       "      <td>Afghanistan</td>\n",
       "      <td>0</td>\n",
       "      <td>Eastern Mediterranean</td>\n",
       "    </tr>\n",
       "    <tr>\n",
       "      <th>7968</th>\n",
       "      <td>2020-03-04</td>\n",
       "      <td>Mongolia</td>\n",
       "      <td>0</td>\n",
       "      <td>Western Pacific</td>\n",
       "    </tr>\n",
       "    <tr>\n",
       "      <th>7969</th>\n",
       "      <td>2020-03-04</td>\n",
       "      <td>Montenegro</td>\n",
       "      <td>0</td>\n",
       "      <td>Europe</td>\n",
       "    </tr>\n",
       "    <tr>\n",
       "      <th>7970</th>\n",
       "      <td>2020-03-04</td>\n",
       "      <td>Morocco</td>\n",
       "      <td>0</td>\n",
       "      <td>Eastern Mediterranean</td>\n",
       "    </tr>\n",
       "    <tr>\n",
       "      <th>7971</th>\n",
       "      <td>2020-03-04</td>\n",
       "      <td>Mozambique</td>\n",
       "      <td>0</td>\n",
       "      <td>Africa</td>\n",
       "    </tr>\n",
       "  </tbody>\n",
       "</table>\n",
       "</div>"
      ],
      "text/plain": [
       "          fecha       region  c_rec               w_region\n",
       "0    2020-01-22  Afghanistan      0  Eastern Mediterranean\n",
       "7968 2020-03-04     Mongolia      0        Western Pacific\n",
       "7969 2020-03-04   Montenegro      0                 Europe\n",
       "7970 2020-03-04      Morocco      0  Eastern Mediterranean\n",
       "7971 2020-03-04   Mozambique      0                 Africa"
      ]
     },
     "execution_count": 24,
     "metadata": {},
     "output_type": "execute_result"
    }
   ],
   "source": [
    "df4.sort_values(by='c_rec',ascending=True)[['fecha','region','c_rec','w_region']].head(5)"
   ]
  },
  {
   "cell_type": "markdown",
   "id": "e0fcecfd",
   "metadata": {},
   "source": [
    "### Rango casos recuperados Covid 19."
   ]
  },
  {
   "cell_type": "code",
   "execution_count": 25,
   "id": "39b30e04",
   "metadata": {},
   "outputs": [
    {
     "name": "stdout",
     "output_type": "stream",
     "text": [
      "1846641\n"
     ]
    }
   ],
   "source": [
    "Range3 = 1846641-0\n",
    "print(Range3)"
   ]
  },
  {
   "cell_type": "markdown",
   "id": "3b4a6257",
   "metadata": {},
   "source": [
    "### Países con mayor número de casos activos Covid 19."
   ]
  },
  {
   "cell_type": "code",
   "execution_count": 26,
   "id": "a1ff6d33",
   "metadata": {},
   "outputs": [
    {
     "data": {
      "text/html": [
       "<div>\n",
       "<style scoped>\n",
       "    .dataframe tbody tr th:only-of-type {\n",
       "        vertical-align: middle;\n",
       "    }\n",
       "\n",
       "    .dataframe tbody tr th {\n",
       "        vertical-align: top;\n",
       "    }\n",
       "\n",
       "    .dataframe thead th {\n",
       "        text-align: right;\n",
       "    }\n",
       "</style>\n",
       "<table border=\"1\" class=\"dataframe\">\n",
       "  <thead>\n",
       "    <tr style=\"text-align: right;\">\n",
       "      <th></th>\n",
       "      <th>fecha</th>\n",
       "      <th>region</th>\n",
       "      <th>c_activos</th>\n",
       "      <th>w_region</th>\n",
       "    </tr>\n",
       "  </thead>\n",
       "  <tbody>\n",
       "    <tr>\n",
       "      <th>35142</th>\n",
       "      <td>2020-07-27</td>\n",
       "      <td>US</td>\n",
       "      <td>2816444</td>\n",
       "      <td>Americas</td>\n",
       "    </tr>\n",
       "    <tr>\n",
       "      <th>34955</th>\n",
       "      <td>2020-07-26</td>\n",
       "      <td>US</td>\n",
       "      <td>2789125</td>\n",
       "      <td>Americas</td>\n",
       "    </tr>\n",
       "    <tr>\n",
       "      <th>34768</th>\n",
       "      <td>2020-07-25</td>\n",
       "      <td>US</td>\n",
       "      <td>2753091</td>\n",
       "      <td>Americas</td>\n",
       "    </tr>\n",
       "    <tr>\n",
       "      <th>34581</th>\n",
       "      <td>2020-07-24</td>\n",
       "      <td>US</td>\n",
       "      <td>2705347</td>\n",
       "      <td>Americas</td>\n",
       "    </tr>\n",
       "    <tr>\n",
       "      <th>34394</th>\n",
       "      <td>2020-07-23</td>\n",
       "      <td>US</td>\n",
       "      <td>2661117</td>\n",
       "      <td>Americas</td>\n",
       "    </tr>\n",
       "  </tbody>\n",
       "</table>\n",
       "</div>"
      ],
      "text/plain": [
       "           fecha region  c_activos  w_region\n",
       "35142 2020-07-27     US    2816444  Americas\n",
       "34955 2020-07-26     US    2789125  Americas\n",
       "34768 2020-07-25     US    2753091  Americas\n",
       "34581 2020-07-24     US    2705347  Americas\n",
       "34394 2020-07-23     US    2661117  Americas"
      ]
     },
     "execution_count": 26,
     "metadata": {},
     "output_type": "execute_result"
    }
   ],
   "source": [
    "df4.sort_values(by='c_activos',ascending=False)[['fecha','region','c_activos','w_region']].head(5)"
   ]
  },
  {
   "cell_type": "markdown",
   "id": "7b7b60d5",
   "metadata": {},
   "source": [
    "### Rango activos Covid 19."
   ]
  },
  {
   "cell_type": "code",
   "execution_count": 27,
   "id": "aa2b24fc",
   "metadata": {},
   "outputs": [
    {
     "name": "stdout",
     "output_type": "stream",
     "text": [
      "2816444\n"
     ]
    }
   ],
   "source": [
    "Range4 = 2816444-0\n",
    "print(Range4)"
   ]
  },
  {
   "cell_type": "markdown",
   "id": "6fb26e88",
   "metadata": {},
   "source": [
    "### Países con mayor promedio de casos confirmados."
   ]
  },
  {
   "cell_type": "code",
   "execution_count": 117,
   "id": "35cda4da",
   "metadata": {},
   "outputs": [
    {
     "data": {
      "text/html": [
       "<div>\n",
       "<style scoped>\n",
       "    .dataframe tbody tr th:only-of-type {\n",
       "        vertical-align: middle;\n",
       "    }\n",
       "\n",
       "    .dataframe tbody tr th {\n",
       "        vertical-align: top;\n",
       "    }\n",
       "\n",
       "    .dataframe thead th {\n",
       "        text-align: right;\n",
       "    }\n",
       "</style>\n",
       "<table border=\"1\" class=\"dataframe\">\n",
       "  <thead>\n",
       "    <tr style=\"text-align: right;\">\n",
       "      <th></th>\n",
       "      <th>c_conf</th>\n",
       "    </tr>\n",
       "    <tr>\n",
       "      <th>region</th>\n",
       "      <th></th>\n",
       "    </tr>\n",
       "  </thead>\n",
       "  <tbody>\n",
       "    <tr>\n",
       "      <th>US</th>\n",
       "      <td>1.193330e+06</td>\n",
       "    </tr>\n",
       "    <tr>\n",
       "      <th>Brazil</th>\n",
       "      <td>4.761966e+05</td>\n",
       "    </tr>\n",
       "    <tr>\n",
       "      <th>Russia</th>\n",
       "      <td>2.415341e+05</td>\n",
       "    </tr>\n",
       "    <tr>\n",
       "      <th>India</th>\n",
       "      <td>2.174652e+05</td>\n",
       "    </tr>\n",
       "    <tr>\n",
       "      <th>Spain</th>\n",
       "      <td>1.457662e+05</td>\n",
       "    </tr>\n",
       "  </tbody>\n",
       "</table>\n",
       "</div>"
      ],
      "text/plain": [
       "              c_conf\n",
       "region              \n",
       "US      1.193330e+06\n",
       "Brazil  4.761966e+05\n",
       "Russia  2.415341e+05\n",
       "India   2.174652e+05\n",
       "Spain   1.457662e+05"
      ]
     },
     "execution_count": 117,
     "metadata": {},
     "output_type": "execute_result"
    }
   ],
   "source": [
    "df4.groupby('region').mean()[['c_conf']].sort_values(by='c_conf',ascending=False).head(5)"
   ]
  },
  {
   "cell_type": "code",
   "execution_count": 34,
   "id": "d56697dd",
   "metadata": {},
   "outputs": [],
   "source": [
    "pie1 = df4.groupby('region').mean()[['c_conf']].sort_values(by='c_conf',ascending=False).head(5)"
   ]
  },
  {
   "cell_type": "code",
   "execution_count": 35,
   "id": "28a9f8f0",
   "metadata": {},
   "outputs": [
    {
     "data": {
      "image/png": "[encoded data removed]",
      "text/plain": [
       "<Figure size 432x432 with 1 Axes>"
      ]
     },
     "metadata": {},
     "output_type": "display_data"
    }
   ],
   "source": [
    "plot = pie1.plot.pie(y='c_conf', figsize=(6, 6), autopct='%.2f', shadow = True, textprops = {\"fontsize\":15})"
   ]
  },
  {
   "cell_type": "markdown",
   "id": "79e4594f",
   "metadata": {},
   "source": [
    "### Países con mayor promedio de muertes. "
   ]
  },
  {
   "cell_type": "code",
   "execution_count": 36,
   "id": "92346d71",
   "metadata": {},
   "outputs": [
    {
     "data": {
      "text/html": [
       "<div>\n",
       "<style scoped>\n",
       "    .dataframe tbody tr th:only-of-type {\n",
       "        vertical-align: middle;\n",
       "    }\n",
       "\n",
       "    .dataframe tbody tr th {\n",
       "        vertical-align: top;\n",
       "    }\n",
       "\n",
       "    .dataframe thead th {\n",
       "        text-align: right;\n",
       "    }\n",
       "</style>\n",
       "<table border=\"1\" class=\"dataframe\">\n",
       "  <thead>\n",
       "    <tr style=\"text-align: right;\">\n",
       "      <th></th>\n",
       "      <th>c_muertes</th>\n",
       "    </tr>\n",
       "    <tr>\n",
       "      <th>region</th>\n",
       "      <th></th>\n",
       "    </tr>\n",
       "  </thead>\n",
       "  <tbody>\n",
       "    <tr>\n",
       "      <th>US</th>\n",
       "      <td>58571.335106</td>\n",
       "    </tr>\n",
       "    <tr>\n",
       "      <th>United Kingdom</th>\n",
       "      <td>21264.760638</td>\n",
       "    </tr>\n",
       "    <tr>\n",
       "      <th>Brazil</th>\n",
       "      <td>20946.989362</td>\n",
       "    </tr>\n",
       "    <tr>\n",
       "      <th>Italy</th>\n",
       "      <td>19721.898936</td>\n",
       "    </tr>\n",
       "    <tr>\n",
       "      <th>France</th>\n",
       "      <td>16215.553191</td>\n",
       "    </tr>\n",
       "  </tbody>\n",
       "</table>\n",
       "</div>"
      ],
      "text/plain": [
       "                   c_muertes\n",
       "region                      \n",
       "US              58571.335106\n",
       "United Kingdom  21264.760638\n",
       "Brazil          20946.989362\n",
       "Italy           19721.898936\n",
       "France          16215.553191"
      ]
     },
     "execution_count": 36,
     "metadata": {},
     "output_type": "execute_result"
    }
   ],
   "source": [
    "df4.groupby('region').mean()[['c_muertes']].sort_values(by='c_muertes',ascending=False).head(5)"
   ]
  },
  {
   "cell_type": "code",
   "execution_count": 37,
   "id": "bd4cc63c",
   "metadata": {},
   "outputs": [],
   "source": [
    "pie2 = df4.groupby('region').mean()[['c_muertes']].sort_values(by='c_muertes',ascending=False).head(5)"
   ]
  },
  {
   "cell_type": "code",
   "execution_count": 38,
   "id": "baa8cf88",
   "metadata": {},
   "outputs": [
    {
     "data": {
      "text/plain": [
       "<matplotlib.legend.Legend at 0x2f24d73af40>"
      ]
     },
     "execution_count": 38,
     "metadata": {},
     "output_type": "execute_result"
    },
    {
     "data": {
      "image/png": "[encoded data removed]",
      "text/plain": [
       "<Figure size 432x432 with 1 Axes>"
      ]
     },
     "metadata": {},
     "output_type": "display_data"
    }
   ],
   "source": [
    "plot = pie2.plot.pie(y='c_muertes', figsize=(6, 6), autopct='%.2f', shadow = True, labeldistance=1.4, textprops = {\"fontsize\":15})\n",
    "plt.legend(loc=2)"
   ]
  },
  {
   "cell_type": "markdown",
   "id": "84cec524",
   "metadata": {},
   "source": [
    "### Países con mayor promedio de recuperados."
   ]
  },
  {
   "cell_type": "code",
   "execution_count": 39,
   "id": "79b41dd1",
   "metadata": {},
   "outputs": [
    {
     "data": {
      "text/html": [
       "<div>\n",
       "<style scoped>\n",
       "    .dataframe tbody tr th:only-of-type {\n",
       "        vertical-align: middle;\n",
       "    }\n",
       "\n",
       "    .dataframe tbody tr th {\n",
       "        vertical-align: top;\n",
       "    }\n",
       "\n",
       "    .dataframe thead th {\n",
       "        text-align: right;\n",
       "    }\n",
       "</style>\n",
       "<table border=\"1\" class=\"dataframe\">\n",
       "  <thead>\n",
       "    <tr style=\"text-align: right;\">\n",
       "      <th></th>\n",
       "      <th>c_rec</th>\n",
       "    </tr>\n",
       "    <tr>\n",
       "      <th>region</th>\n",
       "      <th></th>\n",
       "    </tr>\n",
       "  </thead>\n",
       "  <tbody>\n",
       "    <tr>\n",
       "      <th>US</th>\n",
       "      <td>299752.212766</td>\n",
       "    </tr>\n",
       "    <tr>\n",
       "      <th>Brazil</th>\n",
       "      <td>289855.707447</td>\n",
       "    </tr>\n",
       "    <tr>\n",
       "      <th>Russia</th>\n",
       "      <td>133619.404255</td>\n",
       "    </tr>\n",
       "    <tr>\n",
       "      <th>India</th>\n",
       "      <td>126509.148936</td>\n",
       "    </tr>\n",
       "    <tr>\n",
       "      <th>Germany</th>\n",
       "      <td>90999.143617</td>\n",
       "    </tr>\n",
       "  </tbody>\n",
       "</table>\n",
       "</div>"
      ],
      "text/plain": [
       "                 c_rec\n",
       "region                \n",
       "US       299752.212766\n",
       "Brazil   289855.707447\n",
       "Russia   133619.404255\n",
       "India    126509.148936\n",
       "Germany   90999.143617"
      ]
     },
     "execution_count": 39,
     "metadata": {},
     "output_type": "execute_result"
    }
   ],
   "source": [
    "df4.groupby('region').mean()[['c_rec']].sort_values(by='c_rec',ascending=False).head(5)"
   ]
  },
  {
   "cell_type": "code",
   "execution_count": 40,
   "id": "48fdb214",
   "metadata": {},
   "outputs": [],
   "source": [
    "pie3 = df4.groupby('region').mean()[['c_rec']].sort_values(by='c_rec',ascending=False).head(5)"
   ]
  },
  {
   "cell_type": "code",
   "execution_count": 41,
   "id": "c49955e4",
   "metadata": {},
   "outputs": [
    {
     "data": {
      "text/plain": [
       "<matplotlib.legend.Legend at 0x2f250807e50>"
      ]
     },
     "execution_count": 41,
     "metadata": {},
     "output_type": "execute_result"
    },
    {
     "data": {
      "image/png": "[encoded data removed]",
      "text/plain": [
       "<Figure size 432x432 with 1 Axes>"
      ]
     },
     "metadata": {},
     "output_type": "display_data"
    }
   ],
   "source": [
    "plot = pie3.plot.pie(y='c_rec', figsize=(6, 6), autopct='%.2f', shadow = True, labeldistance=1.1, textprops = {\"fontsize\":15})\n",
    "plt.legend(loc=2)"
   ]
  },
  {
   "cell_type": "markdown",
   "id": "b3616aa3",
   "metadata": {},
   "source": [
    "### Países con mayor promedio de casos activos."
   ]
  },
  {
   "cell_type": "code",
   "execution_count": 42,
   "id": "9f20b245",
   "metadata": {},
   "outputs": [
    {
     "data": {
      "text/html": [
       "<div>\n",
       "<style scoped>\n",
       "    .dataframe tbody tr th:only-of-type {\n",
       "        vertical-align: middle;\n",
       "    }\n",
       "\n",
       "    .dataframe tbody tr th {\n",
       "        vertical-align: top;\n",
       "    }\n",
       "\n",
       "    .dataframe thead th {\n",
       "        text-align: right;\n",
       "    }\n",
       "</style>\n",
       "<table border=\"1\" class=\"dataframe\">\n",
       "  <thead>\n",
       "    <tr style=\"text-align: right;\">\n",
       "      <th></th>\n",
       "      <th>c_activos</th>\n",
       "    </tr>\n",
       "    <tr>\n",
       "      <th>region</th>\n",
       "      <th></th>\n",
       "    </tr>\n",
       "  </thead>\n",
       "  <tbody>\n",
       "    <tr>\n",
       "      <th>US</th>\n",
       "      <td>835005.962766</td>\n",
       "    </tr>\n",
       "    <tr>\n",
       "      <th>Brazil</th>\n",
       "      <td>165393.936170</td>\n",
       "    </tr>\n",
       "    <tr>\n",
       "      <th>United Kingdom</th>\n",
       "      <td>120343.590426</td>\n",
       "    </tr>\n",
       "    <tr>\n",
       "      <th>Russia</th>\n",
       "      <td>104620.095745</td>\n",
       "    </tr>\n",
       "    <tr>\n",
       "      <th>India</th>\n",
       "      <td>85042.090426</td>\n",
       "    </tr>\n",
       "  </tbody>\n",
       "</table>\n",
       "</div>"
      ],
      "text/plain": [
       "                    c_activos\n",
       "region                       \n",
       "US              835005.962766\n",
       "Brazil          165393.936170\n",
       "United Kingdom  120343.590426\n",
       "Russia          104620.095745\n",
       "India            85042.090426"
      ]
     },
     "execution_count": 42,
     "metadata": {},
     "output_type": "execute_result"
    }
   ],
   "source": [
    "df4.groupby('region').mean()[['c_activos']].sort_values(by='c_activos',ascending=False).head(5)"
   ]
  },
  {
   "cell_type": "code",
   "execution_count": 43,
   "id": "5ba3996e",
   "metadata": {},
   "outputs": [],
   "source": [
    "pie4 = df4.groupby('region').mean()[['c_activos']].sort_values(by='c_activos',ascending=False).head(5)"
   ]
  },
  {
   "cell_type": "code",
   "execution_count": 44,
   "id": "9b5ec05f",
   "metadata": {},
   "outputs": [
    {
     "data": {
      "image/png": "[encoded data removed]",
      "text/plain": [
       "<Figure size 432x432 with 1 Axes>"
      ]
     },
     "metadata": {},
     "output_type": "display_data"
    }
   ],
   "source": [
    "plot = pie4.plot.pie(y='c_activos', figsize=(6, 6), autopct='%.2f', shadow = True, labeldistance=1.1, textprops = {\"fontsize\":15})"
   ]
  },
  {
   "cell_type": "markdown",
   "id": "406e65aa",
   "metadata": {},
   "source": [
    "### Promedios"
   ]
  },
  {
   "cell_type": "code",
   "execution_count": 45,
   "id": "c355b451",
   "metadata": {},
   "outputs": [],
   "source": [
    "# Casos Confirmados\n",
    "mean1 = df4['c_conf'].mean()\n",
    "mean2 = df4['c_muertes'].mean()\n",
    "mean3 = df4['c_rec'].mean()\n",
    "mean4 = df4['c_activos'].mean()"
   ]
  },
  {
   "cell_type": "markdown",
   "id": "c3de1665",
   "metadata": {},
   "source": [
    "### Mediana"
   ]
  },
  {
   "cell_type": "code",
   "execution_count": 46,
   "id": "6026fa78",
   "metadata": {},
   "outputs": [],
   "source": [
    "# Casos Confirmados\n",
    "median1 = df4['c_conf'].median()\n",
    "median2 = df4['c_muertes'].median()\n",
    "median3 = df4['c_rec'].median()\n",
    "median4 = df4['c_activos'].median()"
   ]
  },
  {
   "cell_type": "markdown",
   "id": "4d709ca3",
   "metadata": {},
   "source": [
    "### Moda"
   ]
  },
  {
   "cell_type": "code",
   "execution_count": 47,
   "id": "fe6c76f3",
   "metadata": {},
   "outputs": [],
   "source": [
    "mode1 = df4['c_conf'].mode()\n",
    "mode2 = df4['c_muertes'].mode()\n",
    "mode3 = df4['c_rec'].mode()\n",
    "mode4 = df4['c_activos'].mode()"
   ]
  },
  {
   "cell_type": "code",
   "execution_count": 48,
   "id": "a2269c8e",
   "metadata": {},
   "outputs": [
    {
     "name": "stdout",
     "output_type": "stream",
     "text": [
      "La moda de casos \"confirmados\" de Covid 19 es: 0    0\n",
      "Name: c_conf, dtype: int64\n",
      "La moda de casos \"muertes\" de Covid 19 es: 0    0\n",
      "Name: c_muertes, dtype: int64\n",
      "La moda de casos \"recuperados\" de Covid 19 es: 0    0\n",
      "Name: c_rec, dtype: int64\n",
      "La moda de casos \"activos\" de Covid 19 es: 0    0\n",
      "Name: c_activos, dtype: int64\n"
     ]
    }
   ],
   "source": [
    "print('La moda de casos \"confirmados\" de Covid 19 es: ' + str(mode1))\n",
    "print('La moda de casos \"muertes\" de Covid 19 es: ' + str(mode2))\n",
    "print('La moda de casos \"recuperados\" de Covid 19 es: ' + str(mode3))\n",
    "print('La moda de casos \"activos\" de Covid 19 es: ' + str(mode4))"
   ]
  },
  {
   "cell_type": "markdown",
   "id": "209b6b7a",
   "metadata": {},
   "source": [
    "### Varianza"
   ]
  },
  {
   "cell_type": "code",
   "execution_count": 49,
   "id": "bf6d7a1d",
   "metadata": {},
   "outputs": [],
   "source": [
    "var1 = df4['c_conf'].var()\n",
    "var2 = df4['c_muertes'].var()\n",
    "var3 = df4['c_rec'].var()\n",
    "var4 = df4['c_activos'].var()"
   ]
  },
  {
   "cell_type": "code",
   "execution_count": 50,
   "id": "52e7dbdf",
   "metadata": {},
   "outputs": [
    {
     "name": "stdout",
     "output_type": "stream",
     "text": [
      "La varianza de casos \"confirmados\" de Covid 19 es: 22494550907.800827\n",
      "La varianza de casos \"muertes\" de Covid 19 es: 55312514.33529362\n",
      "La varianza de casos \"recuperados\" de Covid 19 es: 4166237854.559589\n",
      "La varianza de casos \"activos\" de Covid 19 es: 8094869753.271661\n"
     ]
    }
   ],
   "source": [
    "print('La varianza de casos \"confirmados\" de Covid 19 es: ' + str(var1))\n",
    "print('La varianza de casos \"muertes\" de Covid 19 es: ' + str(var2))\n",
    "print('La varianza de casos \"recuperados\" de Covid 19 es: ' + str(var3))\n",
    "print('La varianza de casos \"activos\" de Covid 19 es: ' + str(var4))"
   ]
  },
  {
   "cell_type": "markdown",
   "id": "fc945d1f",
   "metadata": {},
   "source": [
    "### Desviación Estándar"
   ]
  },
  {
   "cell_type": "code",
   "execution_count": 51,
   "id": "791741c7",
   "metadata": {},
   "outputs": [],
   "source": [
    "std1 = df4['c_conf'].std()\n",
    "std2 = df4['c_muertes'].std()\n",
    "std3 = df4['c_rec'].std()\n",
    "std4 = df4['c_activos'].std()"
   ]
  },
  {
   "cell_type": "code",
   "execution_count": 52,
   "id": "354001a7",
   "metadata": {},
   "outputs": [
    {
     "name": "stdout",
     "output_type": "stream",
     "text": [
      "La desviación estándar de casos \"confirmados\" de Covid 19 es: 149981.83525947676\n",
      "La desviación estándar de casos \"muertes\" de Covid 19 es: 7437.238354072943\n",
      "La desviación estándar de casos \"recuperados\" de Covid 19 es: 64546.40078702754\n",
      "La desviación estándar de casos \"activos\" de Covid 19 es: 89971.4941149232\n"
     ]
    }
   ],
   "source": [
    "print('La desviación estándar de casos \"confirmados\" de Covid 19 es: ' + str(std1))\n",
    "print('La desviación estándar de casos \"muertes\" de Covid 19 es: ' + str(std2))\n",
    "print('La desviación estándar de casos \"recuperados\" de Covid 19 es: ' + str(std3))\n",
    "print('La desviación estándar de casos \"activos\" de Covid 19 es: ' + str(std4))"
   ]
  },
  {
   "cell_type": "markdown",
   "id": "fff3c7ed",
   "metadata": {},
   "source": [
    "### Gráficas"
   ]
  },
  {
   "cell_type": "code",
   "execution_count": 125,
   "id": "d37ce9a8",
   "metadata": {},
   "outputs": [
    {
     "data": {
      "image/png": "[encoded data removed]",
      "text/plain": [
       "<Figure size 720x720 with 1 Axes>"
      ]
     },
     "metadata": {
      "needs_background": "light"
     },
     "output_type": "display_data"
    }
   ],
   "source": [
    "# Casos Confirmados\n",
    "plt.figure(figsize=(10, 10))\n",
    "plt.bar(df4['fecha'],df4['c_conf'])\n",
    "plt.xlabel('Fecha')\n",
    "plt.ticklabel_format(axis='y', style='plain', scilimits=(0,0), useOffset=False, useLocale=None, useMathText=None)\n",
    "plt.axhline(mean1, color='g', linestyle='solid', linewidth=2, label=\"Mean\")\n",
    "plt.axhline(median1, color='r', linestyle='dotted', linewidth=2, label=\"Median\")\n",
    "plt.ylabel(\"Número de Casos\")\n",
    "plt.title('Casos Confirmados Covid 19')\n",
    "plt.legend()\n",
    "plt.show()"
   ]
  },
  {
   "cell_type": "code",
   "execution_count": 126,
   "id": "585ca2fa",
   "metadata": {},
   "outputs": [
    {
     "data": {
      "image/png": "[encoded data removed]",
      "text/plain": [
       "<Figure size 720x720 with 1 Axes>"
      ]
     },
     "metadata": {
      "needs_background": "light"
     },
     "output_type": "display_data"
    }
   ],
   "source": [
    "# Casos Muertes\n",
    "plt.figure(figsize=(10, 10))\n",
    "plt.bar(df4['fecha'],df4['c_muertes'])\n",
    "plt.xlabel('Fecha')\n",
    "plt.ticklabel_format(axis='y', style='plain', scilimits=(0,0), useOffset=False, useLocale=None, useMathText=None)\n",
    "plt.axhline(mean2, color='g', linestyle='solid', linewidth=2, label=\"Mean\")\n",
    "plt.axhline(median2, color='r', linestyle='dotted', linewidth=2, label=\"Median\")\n",
    "plt.ylabel(\"Número De Muertes\")\n",
    "plt.title('Muertes Covid 19')\n",
    "plt.legend()\n",
    "plt.show()"
   ]
  },
  {
   "cell_type": "code",
   "execution_count": 127,
   "id": "9c10a890",
   "metadata": {},
   "outputs": [
    {
     "data": {
      "image/png": "[encoded data removed]",
      "text/plain": [
       "<Figure size 720x720 with 1 Axes>"
      ]
     },
     "metadata": {
      "needs_background": "light"
     },
     "output_type": "display_data"
    }
   ],
   "source": [
    "# Casos Recuperados\n",
    "plt.figure(figsize=(10, 10))\n",
    "plt.bar(df4['fecha'],df4['c_rec'])\n",
    "plt.xlabel('Fecha')\n",
    "plt.ticklabel_format(axis='y', style='plain', scilimits=(0,0), useOffset=False, useLocale=None, useMathText=None)\n",
    "plt.axhline(mean3, color='g', linestyle='solid', linewidth=2, label=\"Mean\")\n",
    "plt.axhline(median3, color='r', linestyle='dotted', linewidth=2, label=\"Median\")\n",
    "plt.ylabel(\"Número De Recuperados\")\n",
    "plt.title('Recuperados De Covid 19')\n",
    "plt.legend()\n",
    "plt.show()"
   ]
  },
  {
   "cell_type": "code",
   "execution_count": 128,
   "id": "3d4eb8f3",
   "metadata": {},
   "outputs": [
    {
     "data": {
      "image/png": "[encoded data removed]",
      "text/plain": [
       "<Figure size 720x720 with 1 Axes>"
      ]
     },
     "metadata": {
      "needs_background": "light"
     },
     "output_type": "display_data"
    }
   ],
   "source": [
    "# Casos Activos\n",
    "plt.figure(figsize=(10, 10))\n",
    "plt.bar(df4['fecha'],df4['c_activos'])\n",
    "plt.xlabel('Fecha')\n",
    "plt.ticklabel_format(axis='y', style='plain', scilimits=(0,0), useOffset=False, useLocale=None, useMathText=None)\n",
    "plt.axhline(mean4, color='g', linestyle='solid', linewidth=2, label=\"Mean\")\n",
    "plt.axhline(median4, color='r', linestyle='dotted', linewidth=2, label=\"Median\")\n",
    "plt.ylabel(\"Número De Casos Activos\")\n",
    "plt.title('Casos Activos De Covid 19')\n",
    "plt.legend()\n",
    "plt.show()"
   ]
  },
  {
   "cell_type": "markdown",
   "id": "0a992132",
   "metadata": {},
   "source": [
    "### Cuartiles"
   ]
  },
  {
   "cell_type": "code",
   "execution_count": 125,
   "id": "89d22636",
   "metadata": {},
   "outputs": [
    {
     "data": {
      "text/html": [
       "<div>\n",
       "<style scoped>\n",
       "    .dataframe tbody tr th:only-of-type {\n",
       "        vertical-align: middle;\n",
       "    }\n",
       "\n",
       "    .dataframe tbody tr th {\n",
       "        vertical-align: top;\n",
       "    }\n",
       "\n",
       "    .dataframe thead th {\n",
       "        text-align: right;\n",
       "    }\n",
       "</style>\n",
       "<table border=\"1\" class=\"dataframe\">\n",
       "  <thead>\n",
       "    <tr style=\"text-align: right;\">\n",
       "      <th></th>\n",
       "      <th>c_conf</th>\n",
       "      <th>c_muertes</th>\n",
       "      <th>c_rec</th>\n",
       "      <th>c_activos</th>\n",
       "      <th>n_casos</th>\n",
       "      <th>n_muertes</th>\n",
       "      <th>n_rec</th>\n",
       "    </tr>\n",
       "  </thead>\n",
       "  <tbody>\n",
       "    <tr>\n",
       "      <th>0.25</th>\n",
       "      <td>1.00</td>\n",
       "      <td>0.00</td>\n",
       "      <td>0.00</td>\n",
       "      <td>0.0</td>\n",
       "      <td>0.0</td>\n",
       "      <td>0.0</td>\n",
       "      <td>0.0</td>\n",
       "    </tr>\n",
       "    <tr>\n",
       "      <th>0.50</th>\n",
       "      <td>250.00</td>\n",
       "      <td>4.00</td>\n",
       "      <td>33.00</td>\n",
       "      <td>85.0</td>\n",
       "      <td>2.0</td>\n",
       "      <td>0.0</td>\n",
       "      <td>0.0</td>\n",
       "    </tr>\n",
       "    <tr>\n",
       "      <th>0.75</th>\n",
       "      <td>3640.25</td>\n",
       "      <td>78.25</td>\n",
       "      <td>1286.25</td>\n",
       "      <td>1454.0</td>\n",
       "      <td>75.0</td>\n",
       "      <td>1.0</td>\n",
       "      <td>20.0</td>\n",
       "    </tr>\n",
       "  </tbody>\n",
       "</table>\n",
       "</div>"
      ],
      "text/plain": [
       "       c_conf  c_muertes    c_rec  c_activos  n_casos  n_muertes  n_rec\n",
       "0.25     1.00       0.00     0.00        0.0      0.0        0.0    0.0\n",
       "0.50   250.00       4.00    33.00       85.0      2.0        0.0    0.0\n",
       "0.75  3640.25      78.25  1286.25     1454.0     75.0        1.0   20.0"
      ]
     },
     "execution_count": 125,
     "metadata": {},
     "output_type": "execute_result"
    }
   ],
   "source": [
    "df4.quantile([.25, .5, .75])"
   ]
  },
  {
   "cell_type": "code",
   "execution_count": 126,
   "id": "0204b5cb",
   "metadata": {},
   "outputs": [
    {
     "data": {
      "text/html": [
       "<div>\n",
       "<style scoped>\n",
       "    .dataframe tbody tr th:only-of-type {\n",
       "        vertical-align: middle;\n",
       "    }\n",
       "\n",
       "    .dataframe tbody tr th {\n",
       "        vertical-align: top;\n",
       "    }\n",
       "\n",
       "    .dataframe thead th {\n",
       "        text-align: right;\n",
       "    }\n",
       "</style>\n",
       "<table border=\"1\" class=\"dataframe\">\n",
       "  <thead>\n",
       "    <tr style=\"text-align: right;\">\n",
       "      <th></th>\n",
       "      <th>c_conf</th>\n",
       "      <th>c_muertes</th>\n",
       "      <th>c_rec</th>\n",
       "      <th>c_activos</th>\n",
       "      <th>n_casos</th>\n",
       "      <th>n_muertes</th>\n",
       "      <th>n_rec</th>\n",
       "    </tr>\n",
       "  </thead>\n",
       "  <tbody>\n",
       "    <tr>\n",
       "      <th>count</th>\n",
       "      <td>3.515600e+04</td>\n",
       "      <td>35156.000000</td>\n",
       "      <td>3.515600e+04</td>\n",
       "      <td>3.515600e+04</td>\n",
       "      <td>35156.00000</td>\n",
       "      <td>35156.000000</td>\n",
       "      <td>35156.000000</td>\n",
       "    </tr>\n",
       "    <tr>\n",
       "      <th>mean</th>\n",
       "      <td>2.356663e+04</td>\n",
       "      <td>1234.068239</td>\n",
       "      <td>1.104813e+04</td>\n",
       "      <td>1.128443e+04</td>\n",
       "      <td>469.36375</td>\n",
       "      <td>18.603339</td>\n",
       "      <td>269.315593</td>\n",
       "    </tr>\n",
       "    <tr>\n",
       "      <th>std</th>\n",
       "      <td>1.499818e+05</td>\n",
       "      <td>7437.238354</td>\n",
       "      <td>6.454640e+04</td>\n",
       "      <td>8.997149e+04</td>\n",
       "      <td>3005.86754</td>\n",
       "      <td>115.706351</td>\n",
       "      <td>2068.063852</td>\n",
       "    </tr>\n",
       "    <tr>\n",
       "      <th>min</th>\n",
       "      <td>0.000000e+00</td>\n",
       "      <td>0.000000</td>\n",
       "      <td>0.000000e+00</td>\n",
       "      <td>-2.000000e+00</td>\n",
       "      <td>0.00000</td>\n",
       "      <td>-1918.000000</td>\n",
       "      <td>-16298.000000</td>\n",
       "    </tr>\n",
       "    <tr>\n",
       "      <th>25%</th>\n",
       "      <td>1.000000e+00</td>\n",
       "      <td>0.000000</td>\n",
       "      <td>0.000000e+00</td>\n",
       "      <td>0.000000e+00</td>\n",
       "      <td>0.00000</td>\n",
       "      <td>0.000000</td>\n",
       "      <td>0.000000</td>\n",
       "    </tr>\n",
       "    <tr>\n",
       "      <th>50%</th>\n",
       "      <td>2.500000e+02</td>\n",
       "      <td>4.000000</td>\n",
       "      <td>3.300000e+01</td>\n",
       "      <td>8.500000e+01</td>\n",
       "      <td>2.00000</td>\n",
       "      <td>0.000000</td>\n",
       "      <td>0.000000</td>\n",
       "    </tr>\n",
       "    <tr>\n",
       "      <th>75%</th>\n",
       "      <td>3.640250e+03</td>\n",
       "      <td>78.250000</td>\n",
       "      <td>1.286250e+03</td>\n",
       "      <td>1.454000e+03</td>\n",
       "      <td>75.00000</td>\n",
       "      <td>1.000000</td>\n",
       "      <td>20.000000</td>\n",
       "    </tr>\n",
       "    <tr>\n",
       "      <th>max</th>\n",
       "      <td>4.290259e+06</td>\n",
       "      <td>148011.000000</td>\n",
       "      <td>1.846641e+06</td>\n",
       "      <td>2.816444e+06</td>\n",
       "      <td>77255.00000</td>\n",
       "      <td>3887.000000</td>\n",
       "      <td>140050.000000</td>\n",
       "    </tr>\n",
       "  </tbody>\n",
       "</table>\n",
       "</div>"
      ],
      "text/plain": [
       "             c_conf      c_muertes         c_rec     c_activos      n_casos  \\\n",
       "count  3.515600e+04   35156.000000  3.515600e+04  3.515600e+04  35156.00000   \n",
       "mean   2.356663e+04    1234.068239  1.104813e+04  1.128443e+04    469.36375   \n",
       "std    1.499818e+05    7437.238354  6.454640e+04  8.997149e+04   3005.86754   \n",
       "min    0.000000e+00       0.000000  0.000000e+00 -2.000000e+00      0.00000   \n",
       "25%    1.000000e+00       0.000000  0.000000e+00  0.000000e+00      0.00000   \n",
       "50%    2.500000e+02       4.000000  3.300000e+01  8.500000e+01      2.00000   \n",
       "75%    3.640250e+03      78.250000  1.286250e+03  1.454000e+03     75.00000   \n",
       "max    4.290259e+06  148011.000000  1.846641e+06  2.816444e+06  77255.00000   \n",
       "\n",
       "          n_muertes          n_rec  \n",
       "count  35156.000000   35156.000000  \n",
       "mean      18.603339     269.315593  \n",
       "std      115.706351    2068.063852  \n",
       "min    -1918.000000  -16298.000000  \n",
       "25%        0.000000       0.000000  \n",
       "50%        0.000000       0.000000  \n",
       "75%        1.000000      20.000000  \n",
       "max     3887.000000  140050.000000  "
      ]
     },
     "execution_count": 126,
     "metadata": {},
     "output_type": "execute_result"
    }
   ],
   "source": [
    "df4.describe()"
   ]
  },
  {
   "cell_type": "markdown",
   "id": "acc8d086",
   "metadata": {},
   "source": [
    "### Cuantiles"
   ]
  },
  {
   "cell_type": "code",
   "execution_count": 127,
   "id": "26777fc4",
   "metadata": {},
   "outputs": [
    {
     "data": {
      "text/html": [
       "<div>\n",
       "<style scoped>\n",
       "    .dataframe tbody tr th:only-of-type {\n",
       "        vertical-align: middle;\n",
       "    }\n",
       "\n",
       "    .dataframe tbody tr th {\n",
       "        vertical-align: top;\n",
       "    }\n",
       "\n",
       "    .dataframe thead th {\n",
       "        text-align: right;\n",
       "    }\n",
       "</style>\n",
       "<table border=\"1\" class=\"dataframe\">\n",
       "  <thead>\n",
       "    <tr style=\"text-align: right;\">\n",
       "      <th></th>\n",
       "      <th>c_conf</th>\n",
       "      <th>c_muertes</th>\n",
       "      <th>c_rec</th>\n",
       "      <th>c_activos</th>\n",
       "      <th>n_casos</th>\n",
       "      <th>n_muertes</th>\n",
       "      <th>n_rec</th>\n",
       "    </tr>\n",
       "  </thead>\n",
       "  <tbody>\n",
       "    <tr>\n",
       "      <th>0.1</th>\n",
       "      <td>0.0</td>\n",
       "      <td>0.0</td>\n",
       "      <td>0.0</td>\n",
       "      <td>0.0</td>\n",
       "      <td>0.0</td>\n",
       "      <td>0.0</td>\n",
       "      <td>0.0</td>\n",
       "    </tr>\n",
       "    <tr>\n",
       "      <th>0.2</th>\n",
       "      <td>0.0</td>\n",
       "      <td>0.0</td>\n",
       "      <td>0.0</td>\n",
       "      <td>0.0</td>\n",
       "      <td>0.0</td>\n",
       "      <td>0.0</td>\n",
       "      <td>0.0</td>\n",
       "    </tr>\n",
       "    <tr>\n",
       "      <th>0.3</th>\n",
       "      <td>9.0</td>\n",
       "      <td>0.0</td>\n",
       "      <td>0.0</td>\n",
       "      <td>2.0</td>\n",
       "      <td>0.0</td>\n",
       "      <td>0.0</td>\n",
       "      <td>0.0</td>\n",
       "    </tr>\n",
       "    <tr>\n",
       "      <th>0.4</th>\n",
       "      <td>44.0</td>\n",
       "      <td>0.0</td>\n",
       "      <td>7.0</td>\n",
       "      <td>17.0</td>\n",
       "      <td>0.0</td>\n",
       "      <td>0.0</td>\n",
       "      <td>0.0</td>\n",
       "    </tr>\n",
       "    <tr>\n",
       "      <th>0.5</th>\n",
       "      <td>250.0</td>\n",
       "      <td>4.0</td>\n",
       "      <td>33.0</td>\n",
       "      <td>85.0</td>\n",
       "      <td>2.0</td>\n",
       "      <td>0.0</td>\n",
       "      <td>0.0</td>\n",
       "    </tr>\n",
       "    <tr>\n",
       "      <th>0.6</th>\n",
       "      <td>812.0</td>\n",
       "      <td>13.0</td>\n",
       "      <td>184.0</td>\n",
       "      <td>296.0</td>\n",
       "      <td>11.0</td>\n",
       "      <td>0.0</td>\n",
       "      <td>1.0</td>\n",
       "    </tr>\n",
       "    <tr>\n",
       "      <th>0.7</th>\n",
       "      <td>1989.0</td>\n",
       "      <td>45.0</td>\n",
       "      <td>749.0</td>\n",
       "      <td>846.0</td>\n",
       "      <td>40.0</td>\n",
       "      <td>1.0</td>\n",
       "      <td>9.0</td>\n",
       "    </tr>\n",
       "    <tr>\n",
       "      <th>0.8</th>\n",
       "      <td>7201.0</td>\n",
       "      <td>150.0</td>\n",
       "      <td>2219.0</td>\n",
       "      <td>2747.0</td>\n",
       "      <td>143.0</td>\n",
       "      <td>3.0</td>\n",
       "      <td>43.0</td>\n",
       "    </tr>\n",
       "    <tr>\n",
       "      <th>0.9</th>\n",
       "      <td>31410.0</td>\n",
       "      <td>900.0</td>\n",
       "      <td>13206.0</td>\n",
       "      <td>12773.0</td>\n",
       "      <td>557.0</td>\n",
       "      <td>14.0</td>\n",
       "      <td>254.0</td>\n",
       "    </tr>\n",
       "  </tbody>\n",
       "</table>\n",
       "</div>"
      ],
      "text/plain": [
       "      c_conf  c_muertes    c_rec  c_activos  n_casos  n_muertes  n_rec\n",
       "0.1      0.0        0.0      0.0        0.0      0.0        0.0    0.0\n",
       "0.2      0.0        0.0      0.0        0.0      0.0        0.0    0.0\n",
       "0.3      9.0        0.0      0.0        2.0      0.0        0.0    0.0\n",
       "0.4     44.0        0.0      7.0       17.0      0.0        0.0    0.0\n",
       "0.5    250.0        4.0     33.0       85.0      2.0        0.0    0.0\n",
       "0.6    812.0       13.0    184.0      296.0     11.0        0.0    1.0\n",
       "0.7   1989.0       45.0    749.0      846.0     40.0        1.0    9.0\n",
       "0.8   7201.0      150.0   2219.0     2747.0    143.0        3.0   43.0\n",
       "0.9  31410.0      900.0  13206.0    12773.0    557.0       14.0  254.0"
      ]
     },
     "execution_count": 127,
     "metadata": {},
     "output_type": "execute_result"
    }
   ],
   "source": [
    "df4.quantile([.1, .2, .3, .4, .5, .6, .7, .8, .9])"
   ]
  },
  {
   "cell_type": "code",
   "execution_count": 2,
   "id": "0f671955",
   "metadata": {},
   "outputs": [
    {
     "data": {
      "text/html": [
       "<div>\n",
       "<style scoped>\n",
       "    .dataframe tbody tr th:only-of-type {\n",
       "        vertical-align: middle;\n",
       "    }\n",
       "\n",
       "    .dataframe tbody tr th {\n",
       "        vertical-align: top;\n",
       "    }\n",
       "\n",
       "    .dataframe thead th {\n",
       "        text-align: right;\n",
       "    }\n",
       "</style>\n",
       "<table border=\"1\" class=\"dataframe\">\n",
       "  <thead>\n",
       "    <tr style=\"text-align: right;\">\n",
       "      <th></th>\n",
       "      <th>Date</th>\n",
       "      <th>Confirmed</th>\n",
       "      <th>Deaths</th>\n",
       "      <th>Recovered</th>\n",
       "      <th>Active</th>\n",
       "      <th>New cases</th>\n",
       "      <th>New deaths</th>\n",
       "      <th>New recovered</th>\n",
       "      <th>Deaths / 100 Cases</th>\n",
       "      <th>Recovered / 100 Cases</th>\n",
       "      <th>Deaths / 100 Recovered</th>\n",
       "      <th>No. of countries</th>\n",
       "    </tr>\n",
       "  </thead>\n",
       "  <tbody>\n",
       "    <tr>\n",
       "      <th>0</th>\n",
       "      <td>2020-01-22</td>\n",
       "      <td>555</td>\n",
       "      <td>17</td>\n",
       "      <td>28</td>\n",
       "      <td>510</td>\n",
       "      <td>0</td>\n",
       "      <td>0</td>\n",
       "      <td>0</td>\n",
       "      <td>3.06</td>\n",
       "      <td>5.05</td>\n",
       "      <td>60.71</td>\n",
       "      <td>6</td>\n",
       "    </tr>\n",
       "    <tr>\n",
       "      <th>1</th>\n",
       "      <td>2020-01-23</td>\n",
       "      <td>654</td>\n",
       "      <td>18</td>\n",
       "      <td>30</td>\n",
       "      <td>606</td>\n",
       "      <td>99</td>\n",
       "      <td>1</td>\n",
       "      <td>2</td>\n",
       "      <td>2.75</td>\n",
       "      <td>4.59</td>\n",
       "      <td>60.00</td>\n",
       "      <td>8</td>\n",
       "    </tr>\n",
       "    <tr>\n",
       "      <th>2</th>\n",
       "      <td>2020-01-24</td>\n",
       "      <td>941</td>\n",
       "      <td>26</td>\n",
       "      <td>36</td>\n",
       "      <td>879</td>\n",
       "      <td>287</td>\n",
       "      <td>8</td>\n",
       "      <td>6</td>\n",
       "      <td>2.76</td>\n",
       "      <td>3.83</td>\n",
       "      <td>72.22</td>\n",
       "      <td>9</td>\n",
       "    </tr>\n",
       "    <tr>\n",
       "      <th>3</th>\n",
       "      <td>2020-01-25</td>\n",
       "      <td>1434</td>\n",
       "      <td>42</td>\n",
       "      <td>39</td>\n",
       "      <td>1353</td>\n",
       "      <td>493</td>\n",
       "      <td>16</td>\n",
       "      <td>3</td>\n",
       "      <td>2.93</td>\n",
       "      <td>2.72</td>\n",
       "      <td>107.69</td>\n",
       "      <td>11</td>\n",
       "    </tr>\n",
       "    <tr>\n",
       "      <th>4</th>\n",
       "      <td>2020-01-26</td>\n",
       "      <td>2118</td>\n",
       "      <td>56</td>\n",
       "      <td>52</td>\n",
       "      <td>2010</td>\n",
       "      <td>684</td>\n",
       "      <td>14</td>\n",
       "      <td>13</td>\n",
       "      <td>2.64</td>\n",
       "      <td>2.46</td>\n",
       "      <td>107.69</td>\n",
       "      <td>13</td>\n",
       "    </tr>\n",
       "    <tr>\n",
       "      <th>...</th>\n",
       "      <td>...</td>\n",
       "      <td>...</td>\n",
       "      <td>...</td>\n",
       "      <td>...</td>\n",
       "      <td>...</td>\n",
       "      <td>...</td>\n",
       "      <td>...</td>\n",
       "      <td>...</td>\n",
       "      <td>...</td>\n",
       "      <td>...</td>\n",
       "      <td>...</td>\n",
       "      <td>...</td>\n",
       "    </tr>\n",
       "    <tr>\n",
       "      <th>183</th>\n",
       "      <td>2020-07-23</td>\n",
       "      <td>15510481</td>\n",
       "      <td>633506</td>\n",
       "      <td>8710969</td>\n",
       "      <td>6166006</td>\n",
       "      <td>282756</td>\n",
       "      <td>9966</td>\n",
       "      <td>169714</td>\n",
       "      <td>4.08</td>\n",
       "      <td>56.16</td>\n",
       "      <td>7.27</td>\n",
       "      <td>187</td>\n",
       "    </tr>\n",
       "    <tr>\n",
       "      <th>184</th>\n",
       "      <td>2020-07-24</td>\n",
       "      <td>15791645</td>\n",
       "      <td>639650</td>\n",
       "      <td>8939705</td>\n",
       "      <td>6212290</td>\n",
       "      <td>281164</td>\n",
       "      <td>6144</td>\n",
       "      <td>228736</td>\n",
       "      <td>4.05</td>\n",
       "      <td>56.61</td>\n",
       "      <td>7.16</td>\n",
       "      <td>187</td>\n",
       "    </tr>\n",
       "    <tr>\n",
       "      <th>185</th>\n",
       "      <td>2020-07-25</td>\n",
       "      <td>16047190</td>\n",
       "      <td>644517</td>\n",
       "      <td>9158743</td>\n",
       "      <td>6243930</td>\n",
       "      <td>255545</td>\n",
       "      <td>4867</td>\n",
       "      <td>219038</td>\n",
       "      <td>4.02</td>\n",
       "      <td>57.07</td>\n",
       "      <td>7.04</td>\n",
       "      <td>187</td>\n",
       "    </tr>\n",
       "    <tr>\n",
       "      <th>186</th>\n",
       "      <td>2020-07-26</td>\n",
       "      <td>16251796</td>\n",
       "      <td>648621</td>\n",
       "      <td>9293464</td>\n",
       "      <td>6309711</td>\n",
       "      <td>204606</td>\n",
       "      <td>4104</td>\n",
       "      <td>134721</td>\n",
       "      <td>3.99</td>\n",
       "      <td>57.18</td>\n",
       "      <td>6.98</td>\n",
       "      <td>187</td>\n",
       "    </tr>\n",
       "    <tr>\n",
       "      <th>187</th>\n",
       "      <td>2020-07-27</td>\n",
       "      <td>16480485</td>\n",
       "      <td>654036</td>\n",
       "      <td>9468087</td>\n",
       "      <td>6358362</td>\n",
       "      <td>228693</td>\n",
       "      <td>5415</td>\n",
       "      <td>174623</td>\n",
       "      <td>3.97</td>\n",
       "      <td>57.45</td>\n",
       "      <td>6.91</td>\n",
       "      <td>187</td>\n",
       "    </tr>\n",
       "  </tbody>\n",
       "</table>\n",
       "<p>188 rows × 12 columns</p>\n",
       "</div>"
      ],
      "text/plain": [
       "           Date  Confirmed  Deaths  Recovered   Active  New cases  New deaths  \\\n",
       "0    2020-01-22        555      17         28      510          0           0   \n",
       "1    2020-01-23        654      18         30      606         99           1   \n",
       "2    2020-01-24        941      26         36      879        287           8   \n",
       "3    2020-01-25       1434      42         39     1353        493          16   \n",
       "4    2020-01-26       2118      56         52     2010        684          14   \n",
       "..          ...        ...     ...        ...      ...        ...         ...   \n",
       "183  2020-07-23   15510481  633506    8710969  6166006     282756        9966   \n",
       "184  2020-07-24   15791645  639650    8939705  6212290     281164        6144   \n",
       "185  2020-07-25   16047190  644517    9158743  6243930     255545        4867   \n",
       "186  2020-07-26   16251796  648621    9293464  6309711     204606        4104   \n",
       "187  2020-07-27   16480485  654036    9468087  6358362     228693        5415   \n",
       "\n",
       "     New recovered  Deaths / 100 Cases  Recovered / 100 Cases  \\\n",
       "0                0                3.06                   5.05   \n",
       "1                2                2.75                   4.59   \n",
       "2                6                2.76                   3.83   \n",
       "3                3                2.93                   2.72   \n",
       "4               13                2.64                   2.46   \n",
       "..             ...                 ...                    ...   \n",
       "183         169714                4.08                  56.16   \n",
       "184         228736                4.05                  56.61   \n",
       "185         219038                4.02                  57.07   \n",
       "186         134721                3.99                  57.18   \n",
       "187         174623                3.97                  57.45   \n",
       "\n",
       "     Deaths / 100 Recovered  No. of countries  \n",
       "0                     60.71                 6  \n",
       "1                     60.00                 8  \n",
       "2                     72.22                 9  \n",
       "3                    107.69                11  \n",
       "4                    107.69                13  \n",
       "..                      ...               ...  \n",
       "183                    7.27               187  \n",
       "184                    7.16               187  \n",
       "185                    7.04               187  \n",
       "186                    6.98               187  \n",
       "187                    6.91               187  \n",
       "\n",
       "[188 rows x 12 columns]"
      ]
     },
     "execution_count": 2,
     "metadata": {},
     "output_type": "execute_result"
    }
   ],
   "source": [
    "Day_Wise = pd.read_csv('day_wise.csv')\n",
    "Day_Wise"
   ]
  },
  {
   "cell_type": "code",
   "execution_count": 4,
   "id": "26a08dda",
   "metadata": {},
   "outputs": [],
   "source": [
    "Date = Day_Wise['Date'].tolist()\n",
    "Confirmed_Cases = Day_Wise['Confirmed'].tolist()\n",
    "Deaths = Day_Wise['Deaths'].tolist()\n",
    "Recovered = Day_Wise['Recovered'].tolist()\n",
    "Active = Day_Wise['Active'].tolist()"
   ]
  },
  {
   "cell_type": "code",
   "execution_count": 5,
   "id": "92cf3979",
   "metadata": {},
   "outputs": [],
   "source": [
    "Confirmed_Cases_Per_Month = []    # En estas listas vacías se almacenaran los datos correspondientes a cada mes.\n",
    "Deaths_Per_Month = []\n",
    "Recovered_Per_Month = []\n",
    "Active_Per_Month = []\n",
    "\n",
    "Last_Month = Date[0][5:7]                        \n",
    "\n",
    "Sum_Confirmed_Cases = 0\n",
    "Sum_Deaths = 0\n",
    "Sum_Recovered_Cases = 0\n",
    "Sum_Active_Cases = 0\n",
    "Index = 0\n",
    "\n",
    "while (Index < len(Date)):\n",
    "    Current_Month = Date[Index][5:7]\n",
    "    if(Last_Month == Current_Month):\n",
    "        Sum_Confirmed_Cases += Confirmed_Cases[Index]\n",
    "        Sum_Deaths += Deaths[Index]\n",
    "        Sum_Recovered_Cases += Recovered[Index]\n",
    "        Sum_Active_Cases += Active[Index]\n",
    "    else:\n",
    "        Confirmed_Cases_Per_Month.append([Last_Month, Sum_Confirmed_Cases])\n",
    "        Deaths_Per_Month.append([Last_Month, Sum_Deaths])\n",
    "        Recovered_Per_Month.append([Last_Month, Sum_Recovered_Cases])\n",
    "        Active_Per_Month.append([Last_Month, Sum_Active_Cases])\n",
    "        Sum_Confirmed_Cases = 0\n",
    "        Sum_Deaths = 0\n",
    "        Sum_Recovered_Cases = 0\n",
    "        Sum_Active_Cases = 0\n",
    "        Index -= 1\n",
    "\n",
    "    # El if y el +1 se encargan de revisar si estamos en el último elemento para guardar la última suma.   \n",
    "    if(Index + 1 >= len(Date)):\n",
    "        Confirmed_Cases_Per_Month.append([Last_Month, Sum_Confirmed_Cases])\n",
    "        Deaths_Per_Month.append([Last_Month, Sum_Deaths])\n",
    "        Recovered_Per_Month.append([Last_Month, Sum_Recovered_Cases]) \n",
    "        Active_Per_Month.append([Last_Month, Sum_Active_Cases])\n",
    "\n",
    "    Index += 1\n",
    "    Last_Month = Current_Month"
   ]
  },
  {
   "cell_type": "code",
   "execution_count": 6,
   "id": "44cc8141",
   "metadata": {},
   "outputs": [],
   "source": [
    "Confirmed_Cases_Per_Month_df = pd.DataFrame(Confirmed_Cases_Per_Month, columns = ['Months', 'Number Of Confirmed Cases Per Month'])\n",
    "Deaths_Per_Month_df = pd.DataFrame(Deaths_Per_Month, columns = ['Months', 'Number Of Deaths Per Month'])\n",
    "Recovered_Per_Month_df = pd.DataFrame(Recovered_Per_Month, columns = ['Months', 'Number Of Recovered Per Month'])\n",
    "Active_Per_Month_df = pd.DataFrame(Active_Per_Month, columns = ['Months', 'Number Of Active Cases Per Month'])"
   ]
  },
  {
   "cell_type": "code",
   "execution_count": 7,
   "id": "ca4badb6",
   "metadata": {},
   "outputs": [
    {
     "data": {
      "text/html": [
       "<div>\n",
       "<style scoped>\n",
       "    .dataframe tbody tr th:only-of-type {\n",
       "        vertical-align: middle;\n",
       "    }\n",
       "\n",
       "    .dataframe tbody tr th {\n",
       "        vertical-align: top;\n",
       "    }\n",
       "\n",
       "    .dataframe thead th {\n",
       "        text-align: right;\n",
       "    }\n",
       "</style>\n",
       "<table border=\"1\" class=\"dataframe\">\n",
       "  <thead>\n",
       "    <tr style=\"text-align: right;\">\n",
       "      <th></th>\n",
       "      <th>Months</th>\n",
       "      <th>Number Of Confirmed Cases Per Month</th>\n",
       "      <th>Number Of Deaths Per Month</th>\n",
       "      <th>Number Of Recovered Per Month</th>\n",
       "      <th>Number Of Active Cases Per Month</th>\n",
       "    </tr>\n",
       "  </thead>\n",
       "  <tbody>\n",
       "    <tr>\n",
       "      <th>0</th>\n",
       "      <td>Jan</td>\n",
       "      <td>38534</td>\n",
       "      <td>889</td>\n",
       "      <td>838</td>\n",
       "      <td>36807</td>\n",
       "    </tr>\n",
       "    <tr>\n",
       "      <th>1</th>\n",
       "      <td>Feb</td>\n",
       "      <td>1663437</td>\n",
       "      <td>46875</td>\n",
       "      <td>363669</td>\n",
       "      <td>1252893</td>\n",
       "    </tr>\n",
       "    <tr>\n",
       "      <th>2</th>\n",
       "      <td>Mar</td>\n",
       "      <td>9002815</td>\n",
       "      <td>397601</td>\n",
       "      <td>2644372</td>\n",
       "      <td>5960842</td>\n",
       "    </tr>\n",
       "    <tr>\n",
       "      <th>3</th>\n",
       "      <td>Apr</td>\n",
       "      <td>63391662</td>\n",
       "      <td>4311214</td>\n",
       "      <td>15944020</td>\n",
       "      <td>43136428</td>\n",
       "    </tr>\n",
       "    <tr>\n",
       "      <th>4</th>\n",
       "      <td>May</td>\n",
       "      <td>144990399</td>\n",
       "      <td>9609604</td>\n",
       "      <td>52876838</td>\n",
       "      <td>82503957</td>\n",
       "    </tr>\n",
       "    <tr>\n",
       "      <th>5</th>\n",
       "      <td>June</td>\n",
       "      <td>246525787</td>\n",
       "      <td>13309053</td>\n",
       "      <td>116984268</td>\n",
       "      <td>116232466</td>\n",
       "    </tr>\n",
       "    <tr>\n",
       "      <th>6</th>\n",
       "      <td>July</td>\n",
       "      <td>362895848</td>\n",
       "      <td>15709667</td>\n",
       "      <td>199594224</td>\n",
       "      <td>147591957</td>\n",
       "    </tr>\n",
       "  </tbody>\n",
       "</table>\n",
       "</div>"
      ],
      "text/plain": [
       "  Months  Number Of Confirmed Cases Per Month  Number Of Deaths Per Month  \\\n",
       "0    Jan                                38534                         889   \n",
       "1    Feb                              1663437                       46875   \n",
       "2    Mar                              9002815                      397601   \n",
       "3    Apr                             63391662                     4311214   \n",
       "4    May                            144990399                     9609604   \n",
       "5   June                            246525787                    13309053   \n",
       "6   July                            362895848                    15709667   \n",
       "\n",
       "   Number Of Recovered Per Month  Number Of Active Cases Per Month  \n",
       "0                            838                             36807  \n",
       "1                         363669                           1252893  \n",
       "2                        2644372                           5960842  \n",
       "3                       15944020                          43136428  \n",
       "4                       52876838                          82503957  \n",
       "5                      116984268                         116232466  \n",
       "6                      199594224                         147591957  "
      ]
     },
     "execution_count": 7,
     "metadata": {},
     "output_type": "execute_result"
    }
   ],
   "source": [
    "Covid_19_df = Confirmed_Cases_Per_Month_df.merge(Deaths_Per_Month_df, on=\"Months\", how=\"left\").\\\n",
    "merge(Recovered_Per_Month_df, on=\"Months\", how=\"left\").merge(Active_Per_Month_df, on='Months', how='left')\n",
    "Months = ['Jan', 'Feb', 'Mar', 'Apr', 'May', 'June', 'July']\n",
    "Covid_19_df['Months']= Covid_19_df['Months'].replace(['01', '02', '03', '04', '05', '06', '07'], Months)\n",
    "Covid_19_df"
   ]
  },
  {
   "cell_type": "markdown",
   "id": "87ef61b1",
   "metadata": {},
   "source": [
    "### Promedios."
   ]
  },
  {
   "cell_type": "code",
   "execution_count": 63,
   "id": "5d0564d9",
   "metadata": {},
   "outputs": [],
   "source": [
    "mean_c = Covid_19_df['Number Of Confirmed Cases Per Month'].mean()\n",
    "mean_d = Covid_19_df['Number Of Deaths Per Month'].mean()\n",
    "mean_r = Covid_19_df['Number Of Recovered Per Month'].mean()\n",
    "mean_a = Covid_19_df['Number Of Active Cases Per Month'].mean()"
   ]
  },
  {
   "cell_type": "code",
   "execution_count": 100,
   "id": "745571e7",
   "metadata": {},
   "outputs": [
    {
     "name": "stdout",
     "output_type": "stream",
     "text": [
      "La media de casos \"confirmados\" de Covid 19 es: 118358354.57142857\n",
      "La media de casos \"muertes\" de Covid 19 es: 6197843.285714285\n",
      "La media de casos \"recuperados\" de Covid 19 es: 55486889.85714286\n",
      "La media de casos \"activos\" de Covid 19 es: 56673621.428571425\n"
     ]
    }
   ],
   "source": [
    "print('La media de casos \"confirmados\" de Covid 19 es: ' + str(mean_c))\n",
    "print('La media de casos \"muertes\" de Covid 19 es: ' + str(mean_d))\n",
    "print('La media de casos \"recuperados\" de Covid 19 es: ' + str(mean_r))\n",
    "print('La media de casos \"activos\" de Covid 19 es: ' + str(mean_a))"
   ]
  },
  {
   "cell_type": "markdown",
   "id": "d3288f51",
   "metadata": {},
   "source": [
    "### Mediana"
   ]
  },
  {
   "cell_type": "code",
   "execution_count": 64,
   "id": "33426c63",
   "metadata": {},
   "outputs": [],
   "source": [
    "median_c = Covid_19_df['Number Of Confirmed Cases Per Month'].median()\n",
    "median_d = Covid_19_df['Number Of Deaths Per Month'].median()\n",
    "median_r = Covid_19_df['Number Of Recovered Per Month'].median()\n",
    "median_a = Covid_19_df['Number Of Active Cases Per Month'].median()"
   ]
  },
  {
   "cell_type": "code",
   "execution_count": 99,
   "id": "a8196240",
   "metadata": {},
   "outputs": [
    {
     "name": "stdout",
     "output_type": "stream",
     "text": [
      "La mediana de casos \"confirmados\" de Covid 19 es: 63391662.0\n",
      "La mediana de casos \"muertes\" de Covid 19 es: 4311214.0\n",
      "La mediana de casos \"recuperados\" de Covid 19 es: 15944020.0\n",
      "La mediana de casos \"activos\" de Covid 19 es: 43136428.0\n"
     ]
    }
   ],
   "source": [
    "print('La mediana de casos \"confirmados\" de Covid 19 es: ' + str(median_c))\n",
    "print('La mediana de casos \"muertes\" de Covid 19 es: ' + str(median_d))\n",
    "print('La mediana de casos \"recuperados\" de Covid 19 es: ' + str(median_r))\n",
    "print('La mediana de casos \"activos\" de Covid 19 es: ' + str(median_a))"
   ]
  },
  {
   "cell_type": "markdown",
   "id": "db6884fb",
   "metadata": {},
   "source": [
    "### Moda"
   ]
  },
  {
   "cell_type": "code",
   "execution_count": 65,
   "id": "c915619d",
   "metadata": {},
   "outputs": [],
   "source": [
    "mode_c = Covid_19_df['Number Of Confirmed Cases Per Month'].mode()\n",
    "mode_d = Covid_19_df['Number Of Deaths Per Month'].mode()\n",
    "mode_r = Covid_19_df['Number Of Recovered Per Month'].mode()\n",
    "mode_a = Covid_19_df['Number Of Active Cases Per Month'].mode()"
   ]
  },
  {
   "cell_type": "code",
   "execution_count": 68,
   "id": "9aedfaf7",
   "metadata": {},
   "outputs": [
    {
     "data": {
      "text/plain": [
       "ModeResult(mode=array([38534], dtype=int64), count=array([1]))"
      ]
     },
     "execution_count": 68,
     "metadata": {},
     "output_type": "execute_result"
    }
   ],
   "source": [
    "stats.mode(Covid_19_df['Number Of Confirmed Cases Per Month'])"
   ]
  },
  {
   "cell_type": "markdown",
   "id": "e6710f83",
   "metadata": {},
   "source": [
    "### Varianza"
   ]
  },
  {
   "cell_type": "code",
   "execution_count": 72,
   "id": "144c65d3",
   "metadata": {},
   "outputs": [],
   "source": [
    "var_c = Covid_19_df['Number Of Confirmed Cases Per Month'].var()\n",
    "var_d = Covid_19_df['Number Of Deaths Per Month'].var()\n",
    "var_r = Covid_19_df['Number Of Recovered Per Month'].var()\n",
    "var_a = Covid_19_df['Number Of Active Cases Per Month'].var()"
   ]
  },
  {
   "cell_type": "code",
   "execution_count": 73,
   "id": "188f97b4",
   "metadata": {},
   "outputs": [
    {
     "name": "stdout",
     "output_type": "stream",
     "text": [
      "La varianza de casos \"confirmados\" de Covid 19 es: 1.9921999545394036e+16\n",
      "La varianza de casos \"muertes\" de Covid 19 es: 44353839841590.24\n",
      "La varianza de casos \"recuperados\" de Covid 19 es: 5838150886880652.0\n",
      "La varianza de casos \"activos\" de Covid 19 es: 3585805572826414.0\n"
     ]
    }
   ],
   "source": [
    "print('La varianza de casos \"confirmados\" de Covid 19 es: ' + str(var_c))\n",
    "print('La varianza de casos \"muertes\" de Covid 19 es: ' + str(var_d))\n",
    "print('La varianza de casos \"recuperados\" de Covid 19 es: ' + str(var_r))\n",
    "print('La varianza de casos \"activos\" de Covid 19 es: ' + str(var_a))"
   ]
  },
  {
   "cell_type": "markdown",
   "id": "094f8425",
   "metadata": {},
   "source": [
    "### Desviación Estándar"
   ]
  },
  {
   "cell_type": "code",
   "execution_count": 74,
   "id": "f6f6bc89",
   "metadata": {},
   "outputs": [],
   "source": [
    "std_c = Covid_19_df['Number Of Confirmed Cases Per Month'].std()\n",
    "std_d = Covid_19_df['Number Of Deaths Per Month'].std()\n",
    "std_r = Covid_19_df['Number Of Recovered Per Month'].std()\n",
    "std_a = Covid_19_df['Number Of Active Cases Per Month'].std()"
   ]
  },
  {
   "cell_type": "code",
   "execution_count": 75,
   "id": "6dd26830",
   "metadata": {},
   "outputs": [
    {
     "name": "stdout",
     "output_type": "stream",
     "text": [
      "La desviación estándar de casos \"confirmados\" de Covid 19 es: 141145313.57928267\n",
      "La desviación estándar de casos \"muertes\" de Covid 19 es: 6659867.854664253\n",
      "La desviación estándar de casos \"recuperados\" de Covid 19 es: 76407793.36481752\n",
      "La desviación estándar de casos \"activos\" de Covid 19 es: 59881596.278209\n"
     ]
    }
   ],
   "source": [
    "print('La desviación estándar de casos \"confirmados\" de Covid 19 es: ' + str(std_c))\n",
    "print('La desviación estándar de casos \"muertes\" de Covid 19 es: ' + str(std_d))\n",
    "print('La desviación estándar de casos \"recuperados\" de Covid 19 es: ' + str(std_r))\n",
    "print('La desviación estándar de casos \"activos\" de Covid 19 es: ' + str(std_a))"
   ]
  },
  {
   "cell_type": "code",
   "execution_count": 78,
   "id": "312dbd1c",
   "metadata": {},
   "outputs": [
    {
     "data": {
      "image/png": "[encoded data removed]",
      "text/plain": [
       "<Figure size 720x720 with 1 Axes>"
      ]
     },
     "metadata": {
      "needs_background": "light"
     },
     "output_type": "display_data"
    }
   ],
   "source": [
    "# Casos Confirmados\n",
    "plt.figure(figsize=(10, 10))\n",
    "plt.bar(Covid_19_df['Months'], Covid_19_df['Number Of Confirmed Cases Per Month'])\n",
    "plt.xlabel('Meses')\n",
    "plt.ticklabel_format(axis='y', style='plain', scilimits=(0,0), useOffset=False, useLocale=None, useMathText=None)\n",
    "plt.axhline(mean_c, color='g', linestyle='solid', linewidth=2, label=\"Media\")\n",
    "plt.axhline(median_c, color='r', linestyle='dotted', linewidth=2, label=\"Mediana\")\n",
    "plt.ylabel(\"Número de Casos\")\n",
    "plt.title('Casos Confirmados Covid 19')\n",
    "plt.legend()\n",
    "plt.show()"
   ]
  },
  {
   "cell_type": "code",
   "execution_count": 80,
   "id": "b3f088b9",
   "metadata": {},
   "outputs": [
    {
     "data": {
      "image/png": "[encoded data removed]",
      "text/plain": [
       "<Figure size 720x720 with 1 Axes>"
      ]
     },
     "metadata": {
      "needs_background": "light"
     },
     "output_type": "display_data"
    }
   ],
   "source": [
    "# Casos Muertes\n",
    "plt.figure(figsize=(10, 10))\n",
    "plt.bar(Covid_19_df['Months'], Covid_19_df['Number Of Deaths Per Month'])\n",
    "plt.xlabel('Meses')\n",
    "plt.ticklabel_format(axis='y', style='plain', scilimits=(0,0), useOffset=False, useLocale=None, useMathText=None)\n",
    "plt.axhline(mean_d, color='g', linestyle='solid', linewidth=2, label=\"Media\")\n",
    "plt.axhline(median_d, color='r', linestyle='dotted', linewidth=2, label=\"Mediana\")\n",
    "plt.ylabel(\"Número de Casos\")\n",
    "plt.title('Mortalidad Covid 19')\n",
    "plt.legend()\n",
    "plt.show()"
   ]
  },
  {
   "cell_type": "code",
   "execution_count": 84,
   "id": "380988cd",
   "metadata": {},
   "outputs": [
    {
     "data": {
      "image/png": "[encoded data removed]",
      "text/plain": [
       "<Figure size 720x720 with 1 Axes>"
      ]
     },
     "metadata": {
      "needs_background": "light"
     },
     "output_type": "display_data"
    }
   ],
   "source": [
    "# Casos Recuperados\n",
    "plt.figure(figsize=(10, 10))\n",
    "plt.bar(Covid_19_df['Months'], Covid_19_df['Number Of Recovered Per Month'])\n",
    "plt.xlabel('Meses')\n",
    "plt.ticklabel_format(axis='y', style='plain', scilimits=(0,0), useOffset=False, useLocale=None, useMathText=None)\n",
    "plt.axhline(mean_r, color='g', linestyle='solid', linewidth=2, label=\"Media\")\n",
    "plt.axhline(median_r, color='r', linestyle='dotted', linewidth=2, label=\"Mediana\")\n",
    "plt.ylabel(\"Número de Casos\")\n",
    "plt.title('Recuperados Covid 19')\n",
    "plt.legend()\n",
    "plt.show()"
   ]
  },
  {
   "cell_type": "code",
   "execution_count": 85,
   "id": "176625fb",
   "metadata": {},
   "outputs": [
    {
     "data": {
      "image/png": "[encoded data removed]",
      "text/plain": [
       "<Figure size 720x720 with 1 Axes>"
      ]
     },
     "metadata": {
      "needs_background": "light"
     },
     "output_type": "display_data"
    }
   ],
   "source": [
    "# Casos Activos\n",
    "plt.figure(figsize=(10, 10))\n",
    "plt.bar(Covid_19_df['Months'], Covid_19_df['Number Of Active Cases Per Month'])\n",
    "plt.xlabel('Meses')\n",
    "plt.ticklabel_format(axis='y', style='plain', scilimits=(0,0), useOffset=False, useLocale=None, useMathText=None)\n",
    "plt.axhline(mean_a, color='g', linestyle='solid', linewidth=2, label=\"Media\")\n",
    "plt.axhline(median_a, color='r', linestyle='dotted', linewidth=2, label=\"Mediana\")\n",
    "plt.ylabel(\"Número de Casos\")\n",
    "plt.title('Casos Activos Covid 19')\n",
    "plt.legend()\n",
    "plt.show()"
   ]
  },
  {
   "cell_type": "markdown",
   "id": "d635fd56",
   "metadata": {},
   "source": [
    "### Cuartiles"
   ]
  },
  {
   "cell_type": "code",
   "execution_count": 107,
   "id": "c80e1921",
   "metadata": {},
   "outputs": [
    {
     "data": {
      "text/html": [
       "<div>\n",
       "<style scoped>\n",
       "    .dataframe tbody tr th:only-of-type {\n",
       "        vertical-align: middle;\n",
       "    }\n",
       "\n",
       "    .dataframe tbody tr th {\n",
       "        vertical-align: top;\n",
       "    }\n",
       "\n",
       "    .dataframe thead th {\n",
       "        text-align: right;\n",
       "    }\n",
       "</style>\n",
       "<table border=\"1\" class=\"dataframe\">\n",
       "  <thead>\n",
       "    <tr style=\"text-align: right;\">\n",
       "      <th></th>\n",
       "      <th>Number Of Confirmed Cases Per Month</th>\n",
       "      <th>Number Of Deaths Per Month</th>\n",
       "      <th>Number Of Recovered Per Month</th>\n",
       "      <th>Number Of Active Cases Per Month</th>\n",
       "    </tr>\n",
       "  </thead>\n",
       "  <tbody>\n",
       "    <tr>\n",
       "      <th>0.25</th>\n",
       "      <td>5333126.0</td>\n",
       "      <td>222238.0</td>\n",
       "      <td>1504020.5</td>\n",
       "      <td>3606867.5</td>\n",
       "    </tr>\n",
       "    <tr>\n",
       "      <th>0.50</th>\n",
       "      <td>63391662.0</td>\n",
       "      <td>4311214.0</td>\n",
       "      <td>15944020.0</td>\n",
       "      <td>43136428.0</td>\n",
       "    </tr>\n",
       "    <tr>\n",
       "      <th>0.75</th>\n",
       "      <td>195758093.0</td>\n",
       "      <td>11459328.5</td>\n",
       "      <td>84930553.0</td>\n",
       "      <td>99368211.5</td>\n",
       "    </tr>\n",
       "  </tbody>\n",
       "</table>\n",
       "</div>"
      ],
      "text/plain": [
       "      Number Of Confirmed Cases Per Month  Number Of Deaths Per Month  \\\n",
       "0.25                            5333126.0                    222238.0   \n",
       "0.50                           63391662.0                   4311214.0   \n",
       "0.75                          195758093.0                  11459328.5   \n",
       "\n",
       "      Number Of Recovered Per Month  Number Of Active Cases Per Month  \n",
       "0.25                      1504020.5                         3606867.5  \n",
       "0.50                     15944020.0                        43136428.0  \n",
       "0.75                     84930553.0                        99368211.5  "
      ]
     },
     "execution_count": 107,
     "metadata": {},
     "output_type": "execute_result"
    }
   ],
   "source": [
    "Covid_19_df.quantile([.25, .5, .75])"
   ]
  },
  {
   "cell_type": "code",
   "execution_count": 106,
   "id": "5c10c011",
   "metadata": {},
   "outputs": [
    {
     "data": {
      "text/html": [
       "<div>\n",
       "<style scoped>\n",
       "    .dataframe tbody tr th:only-of-type {\n",
       "        vertical-align: middle;\n",
       "    }\n",
       "\n",
       "    .dataframe tbody tr th {\n",
       "        vertical-align: top;\n",
       "    }\n",
       "\n",
       "    .dataframe thead th {\n",
       "        text-align: right;\n",
       "    }\n",
       "</style>\n",
       "<table border=\"1\" class=\"dataframe\">\n",
       "  <thead>\n",
       "    <tr style=\"text-align: right;\">\n",
       "      <th></th>\n",
       "      <th>Number Of Confirmed Cases Per Month</th>\n",
       "      <th>Number Of Deaths Per Month</th>\n",
       "      <th>Number Of Recovered Per Month</th>\n",
       "      <th>Number Of Active Cases Per Month</th>\n",
       "    </tr>\n",
       "  </thead>\n",
       "  <tbody>\n",
       "    <tr>\n",
       "      <th>count</th>\n",
       "      <td>7.000000e+00</td>\n",
       "      <td>7.000000e+00</td>\n",
       "      <td>7.000000e+00</td>\n",
       "      <td>7.000000e+00</td>\n",
       "    </tr>\n",
       "    <tr>\n",
       "      <th>mean</th>\n",
       "      <td>1.183584e+08</td>\n",
       "      <td>6.197843e+06</td>\n",
       "      <td>5.548689e+07</td>\n",
       "      <td>5.667362e+07</td>\n",
       "    </tr>\n",
       "    <tr>\n",
       "      <th>std</th>\n",
       "      <td>1.411453e+08</td>\n",
       "      <td>6.659868e+06</td>\n",
       "      <td>7.640779e+07</td>\n",
       "      <td>5.988160e+07</td>\n",
       "    </tr>\n",
       "    <tr>\n",
       "      <th>min</th>\n",
       "      <td>3.853400e+04</td>\n",
       "      <td>8.890000e+02</td>\n",
       "      <td>8.380000e+02</td>\n",
       "      <td>3.680700e+04</td>\n",
       "    </tr>\n",
       "    <tr>\n",
       "      <th>25%</th>\n",
       "      <td>5.333126e+06</td>\n",
       "      <td>2.222380e+05</td>\n",
       "      <td>1.504020e+06</td>\n",
       "      <td>3.606868e+06</td>\n",
       "    </tr>\n",
       "    <tr>\n",
       "      <th>50%</th>\n",
       "      <td>6.339166e+07</td>\n",
       "      <td>4.311214e+06</td>\n",
       "      <td>1.594402e+07</td>\n",
       "      <td>4.313643e+07</td>\n",
       "    </tr>\n",
       "    <tr>\n",
       "      <th>75%</th>\n",
       "      <td>1.957581e+08</td>\n",
       "      <td>1.145933e+07</td>\n",
       "      <td>8.493055e+07</td>\n",
       "      <td>9.936821e+07</td>\n",
       "    </tr>\n",
       "    <tr>\n",
       "      <th>max</th>\n",
       "      <td>3.628958e+08</td>\n",
       "      <td>1.570967e+07</td>\n",
       "      <td>1.995942e+08</td>\n",
       "      <td>1.475920e+08</td>\n",
       "    </tr>\n",
       "  </tbody>\n",
       "</table>\n",
       "</div>"
      ],
      "text/plain": [
       "       Number Of Confirmed Cases Per Month  Number Of Deaths Per Month  \\\n",
       "count                         7.000000e+00                7.000000e+00   \n",
       "mean                          1.183584e+08                6.197843e+06   \n",
       "std                           1.411453e+08                6.659868e+06   \n",
       "min                           3.853400e+04                8.890000e+02   \n",
       "25%                           5.333126e+06                2.222380e+05   \n",
       "50%                           6.339166e+07                4.311214e+06   \n",
       "75%                           1.957581e+08                1.145933e+07   \n",
       "max                           3.628958e+08                1.570967e+07   \n",
       "\n",
       "       Number Of Recovered Per Month  Number Of Active Cases Per Month  \n",
       "count                   7.000000e+00                      7.000000e+00  \n",
       "mean                    5.548689e+07                      5.667362e+07  \n",
       "std                     7.640779e+07                      5.988160e+07  \n",
       "min                     8.380000e+02                      3.680700e+04  \n",
       "25%                     1.504020e+06                      3.606868e+06  \n",
       "50%                     1.594402e+07                      4.313643e+07  \n",
       "75%                     8.493055e+07                      9.936821e+07  \n",
       "max                     1.995942e+08                      1.475920e+08  "
      ]
     },
     "execution_count": 106,
     "metadata": {},
     "output_type": "execute_result"
    }
   ],
   "source": [
    "Covid_19_df.describe()"
   ]
  },
  {
   "cell_type": "markdown",
   "id": "9134f7a7",
   "metadata": {},
   "source": [
    "### Cuantiles"
   ]
  },
  {
   "cell_type": "code",
   "execution_count": 105,
   "id": "618db916",
   "metadata": {},
   "outputs": [
    {
     "data": {
      "text/html": [
       "<div>\n",
       "<style scoped>\n",
       "    .dataframe tbody tr th:only-of-type {\n",
       "        vertical-align: middle;\n",
       "    }\n",
       "\n",
       "    .dataframe tbody tr th {\n",
       "        vertical-align: top;\n",
       "    }\n",
       "\n",
       "    .dataframe thead th {\n",
       "        text-align: right;\n",
       "    }\n",
       "</style>\n",
       "<table border=\"1\" class=\"dataframe\">\n",
       "  <thead>\n",
       "    <tr style=\"text-align: right;\">\n",
       "      <th></th>\n",
       "      <th>Number Of Confirmed Cases Per Month</th>\n",
       "      <th>Number Of Deaths Per Month</th>\n",
       "      <th>Number Of Recovered Per Month</th>\n",
       "      <th>Number Of Active Cases Per Month</th>\n",
       "    </tr>\n",
       "  </thead>\n",
       "  <tbody>\n",
       "    <tr>\n",
       "      <th>0.1</th>\n",
       "      <td>1013475.8</td>\n",
       "      <td>28480.6</td>\n",
       "      <td>218536.6</td>\n",
       "      <td>766458.6</td>\n",
       "    </tr>\n",
       "    <tr>\n",
       "      <th>0.2</th>\n",
       "      <td>3131312.6</td>\n",
       "      <td>117020.2</td>\n",
       "      <td>819809.6</td>\n",
       "      <td>2194482.8</td>\n",
       "    </tr>\n",
       "    <tr>\n",
       "      <th>0.3</th>\n",
       "      <td>7534939.4</td>\n",
       "      <td>327455.8</td>\n",
       "      <td>2188231.4</td>\n",
       "      <td>5019252.2</td>\n",
       "    </tr>\n",
       "    <tr>\n",
       "      <th>0.4</th>\n",
       "      <td>30758353.8</td>\n",
       "      <td>1963046.2</td>\n",
       "      <td>7964231.2</td>\n",
       "      <td>20831076.4</td>\n",
       "    </tr>\n",
       "    <tr>\n",
       "      <th>0.5</th>\n",
       "      <td>63391662.0</td>\n",
       "      <td>4311214.0</td>\n",
       "      <td>15944020.0</td>\n",
       "      <td>43136428.0</td>\n",
       "    </tr>\n",
       "    <tr>\n",
       "      <th>0.6</th>\n",
       "      <td>112350904.2</td>\n",
       "      <td>7490248.0</td>\n",
       "      <td>38103710.8</td>\n",
       "      <td>66756945.4</td>\n",
       "    </tr>\n",
       "    <tr>\n",
       "      <th>0.7</th>\n",
       "      <td>165297476.6</td>\n",
       "      <td>10349493.8</td>\n",
       "      <td>65698324.0</td>\n",
       "      <td>89249658.8</td>\n",
       "    </tr>\n",
       "    <tr>\n",
       "      <th>0.8</th>\n",
       "      <td>226218709.4</td>\n",
       "      <td>12569163.2</td>\n",
       "      <td>104162782.0</td>\n",
       "      <td>109486764.2</td>\n",
       "    </tr>\n",
       "    <tr>\n",
       "      <th>0.9</th>\n",
       "      <td>293073811.4</td>\n",
       "      <td>14269298.6</td>\n",
       "      <td>150028250.4</td>\n",
       "      <td>128776262.4</td>\n",
       "    </tr>\n",
       "  </tbody>\n",
       "</table>\n",
       "</div>"
      ],
      "text/plain": [
       "     Number Of Confirmed Cases Per Month  Number Of Deaths Per Month  \\\n",
       "0.1                            1013475.8                     28480.6   \n",
       "0.2                            3131312.6                    117020.2   \n",
       "0.3                            7534939.4                    327455.8   \n",
       "0.4                           30758353.8                   1963046.2   \n",
       "0.5                           63391662.0                   4311214.0   \n",
       "0.6                          112350904.2                   7490248.0   \n",
       "0.7                          165297476.6                  10349493.8   \n",
       "0.8                          226218709.4                  12569163.2   \n",
       "0.9                          293073811.4                  14269298.6   \n",
       "\n",
       "     Number Of Recovered Per Month  Number Of Active Cases Per Month  \n",
       "0.1                       218536.6                          766458.6  \n",
       "0.2                       819809.6                         2194482.8  \n",
       "0.3                      2188231.4                         5019252.2  \n",
       "0.4                      7964231.2                        20831076.4  \n",
       "0.5                     15944020.0                        43136428.0  \n",
       "0.6                     38103710.8                        66756945.4  \n",
       "0.7                     65698324.0                        89249658.8  \n",
       "0.8                    104162782.0                       109486764.2  \n",
       "0.9                    150028250.4                       128776262.4  "
      ]
     },
     "execution_count": 105,
     "metadata": {},
     "output_type": "execute_result"
    }
   ],
   "source": [
    "Covid_19_df.quantile([.1, .2, .3, .4, .5, .6, .7, .8, .9])"
   ]
  },
  {
   "cell_type": "markdown",
   "id": "4b7d1d43",
   "metadata": {},
   "source": [
    "### Rango intercuartil."
   ]
  },
  {
   "cell_type": "code",
   "execution_count": 123,
   "id": "adfa52fe",
   "metadata": {},
   "outputs": [],
   "source": [
    "iqr_c = Covid_19_df['Number Of Confirmed Cases Per Month'].quantile(0.75) - Covid_19_df['Number Of Confirmed Cases Per Month'].quantile(0.25)\n",
    "iqr_d = Covid_19_df['Number Of Deaths Per Month'].quantile(0.75) - Covid_19_df['Number Of Deaths Per Month'].quantile(0.25)\n",
    "iqr_r = Covid_19_df['Number Of Recovered Per Month'].quantile(0.75) - Covid_19_df['Number Of Recovered Per Month'].quantile(0.25)\n",
    "iqr_a = Covid_19_df['Number Of Active Cases Per Month'].quantile(0.75) - Covid_19_df['Number Of Active Cases Per Month'].quantile(0.25)"
   ]
  },
  {
   "cell_type": "code",
   "execution_count": 124,
   "id": "8158952f",
   "metadata": {},
   "outputs": [
    {
     "name": "stdout",
     "output_type": "stream",
     "text": [
      "Rango intercuartil casos confirmados: 190424967.0\n",
      "Rango intercuartil muertes: 11237090.5\n",
      "Rango intercuartil recuperados: 83426532.5\n",
      "Rango intercuartil casos activos: 95761344.0\n"
     ]
    }
   ],
   "source": [
    "print('Rango intercuartil casos confirmados: ' + str(iqr_c))\n",
    "print('Rango intercuartil muertes: ' + str(iqr_d))\n",
    "print('Rango intercuartil recuperados: ' + str(iqr_r))\n",
    "print('Rango intercuartil casos activos: ' + str(iqr_a))"
   ]
  },
  {
   "cell_type": "markdown",
   "id": "d3ba6a03",
   "metadata": {},
   "source": [
    "### Boxplot"
   ]
  },
  {
   "cell_type": "code",
   "execution_count": 129,
   "id": "0753b270",
   "metadata": {},
   "outputs": [
    {
     "data": {
      "image/png": "[encoded data removed]",
      "text/plain": [
       "<Figure size 1080x720 with 1 Axes>"
      ]
     },
     "metadata": {
      "needs_background": "light"
     },
     "output_type": "display_data"
    }
   ],
   "source": [
    "plt.figure(figsize=(15,10))\n",
    "boxplot = Covid_19_df.boxplot(column=['Number Of Confirmed Cases Per Month', 'Number Of Deaths Per Month', 'Number Of Recovered Per Month', 'Number Of Active Cases Per Month'])\n",
    "plt.ticklabel_format(axis='y', style='plain', scilimits=(0,0), useOffset=False, useLocale=None, useMathText=None)"
   ]
  },
  {
   "cell_type": "markdown",
   "id": "e6f3e24a",
   "metadata": {},
   "source": [
    "Con la gráfica anterior podemos deducir que no tenemos valores atípicos y que la muestra estadística no es simétrica ya que la mediana no se encuenta en la mitad de la caja. Por otro lado, podemos evidenciar que la tasa de mortalidad en ese período (6 meses) fue relativamente baja porque la caja de rango intercuartil y los bigotes correspondientes al número de muertes por mes, no representa el 50% de los casos confirmados por Covid 19.  "
   ]
  }
 ],
 "metadata": {
  "kernelspec": {
   "display_name": "Python 3 (ipykernel)",
   "language": "python",
   "name": "python3"
  },
  "language_info": {
   "codemirror_mode": {
    "name": "ipython",
    "version": 3
   },
   "file_extension": ".py",
   "mimetype": "text/x-python",
   "name": "python",
   "nbconvert_exporter": "python",
   "pygments_lexer": "ipython3",
   "version": "3.9.12"
  }
 },
 "nbformat": 4,
 "nbformat_minor": 5
}
